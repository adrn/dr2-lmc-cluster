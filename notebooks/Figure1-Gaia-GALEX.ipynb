{
 "cells": [
  {
   "cell_type": "code",
   "execution_count": 2,
   "metadata": {},
   "outputs": [],
   "source": [
    "from os import path\n",
    "\n",
    "import astropy.coordinates as coord\n",
    "from astropy.table import Table\n",
    "import astropy.units as u\n",
    "from astropy.io import ascii\n",
    "from astropy.io import fits\n",
    "from astropy.wcs import WCS\n",
    "import reproject\n",
    "\n",
    "import numpy as np\n",
    "import matplotlib as mpl\n",
    "import matplotlib.pyplot as plt\n",
    "%matplotlib inline\n",
    "import h5py\n",
    "from scipy.spatial import cKDTree\n",
    "\n",
    "from pyia import GaiaData\n",
    "import gala.dynamics as gd\n",
    "import gala.coordinates as gc\n",
    "import gala.potential as gp\n",
    "from gala.mpl_style import center_emph, center_deemph\n",
    "\n",
    "from dustmaps.sfd import SFDQuery\n",
    "from helpers import get_ext"
   ]
  },
  {
   "cell_type": "code",
   "execution_count": 3,
   "metadata": {},
   "outputs": [],
   "source": [
    "g = GaiaData('../data/all-data-3deg.fits')\n",
    "c = g.get_skycoord(distance=False)"
   ]
  },
  {
   "cell_type": "code",
   "execution_count": 4,
   "metadata": {},
   "outputs": [
    {
     "data": {
      "text/plain": [
       "<GaiaData: 121433 rows>"
      ]
     },
     "execution_count": 4,
     "metadata": {},
     "output_type": "execute_result"
    }
   ],
   "source": [
    "fig, axes = plt.subplots(1, 1, figsize=())"
   ]
  },
  {
   "cell_type": "code",
   "execution_count": null,
   "metadata": {},
   "outputs": [],
   "source": []
  },
  {
   "cell_type": "code",
   "execution_count": null,
   "metadata": {},
   "outputs": [],
   "source": []
  }
 ],
 "metadata": {
  "kernelspec": {
   "display_name": "Python [default]",
   "language": "python",
   "name": "python3"
  },
  "language_info": {
   "codemirror_mode": {
    "name": "ipython",
    "version": 3
   },
   "file_extension": ".py",
   "mimetype": "text/x-python",
   "name": "python",
   "nbconvert_exporter": "python",
   "pygments_lexer": "ipython3",
   "version": "3.6.4"
  }
 },
 "nbformat": 4,
 "nbformat_minor": 2
}
