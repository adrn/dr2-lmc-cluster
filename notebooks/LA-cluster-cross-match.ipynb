{
 "cells": [
  {
   "cell_type": "code",
   "execution_count": null,
   "metadata": {},
   "outputs": [],
   "source": [
    "from os import path\n",
    "import glob\n",
    "import warnings\n",
    "\n",
    "import astropy.coordinates as coord\n",
    "from astropy.table import Table, hstack, join\n",
    "import astropy.units as u\n",
    "from astropy.io import ascii\n",
    "from astropy.io import fits\n",
    "import reproject\n",
    "\n",
    "import numpy as np\n",
    "import matplotlib as mpl\n",
    "import matplotlib.pyplot as plt\n",
    "%matplotlib inline\n",
    "import h5py\n",
    "from scipy.spatial import cKDTree\n",
    "\n",
    "from pyia import GaiaData\n",
    "import gala.coordinates as gc\n",
    "from dustmaps.sfd import SFDQuery\n",
    "from astroquery.gaia import Gaia\n",
    "\n",
    "from sfd import reddening\n",
    "Gaia.login(user='apricewh', password='7Gy2^otQNj6FKz6')"
   ]
  },
  {
   "cell_type": "code",
   "execution_count": null,
   "metadata": {},
   "outputs": [],
   "source": [
    "lmc_c = coord.SkyCoord.from_name('LMC')\n",
    "smc_c = coord.SkyCoord.from_name('SMC')"
   ]
  },
  {
   "cell_type": "code",
   "execution_count": null,
   "metadata": {},
   "outputs": [],
   "source": [
    "cluster_c = coord.SkyCoord(ra=179*u.deg, dec=-29*u.deg)"
   ]
  },
  {
   "cell_type": "code",
   "execution_count": null,
   "metadata": {},
   "outputs": [],
   "source": [
    "field_radius = coord.Angle(3*u.deg)"
   ]
  },
  {
   "cell_type": "markdown",
   "metadata": {},
   "source": [
    "## First look at Isochrones to help color selection"
   ]
  },
  {
   "cell_type": "code",
   "execution_count": null,
   "metadata": {},
   "outputs": [],
   "source": [
    "dup_cols = ['EEP', 'isochrone_age_yr',\n",
    "'initial_mass',\n",
    "'star_mass',\n",
    "'log_Teff',\n",
    "'log_g',\n",
    "'log_L',\n",
    "'[Fe/H]_init',\n",
    "'[Fe/H]',\n",
    "'phase']"
   ]
  },
  {
   "cell_type": "code",
   "execution_count": null,
   "metadata": {},
   "outputs": [],
   "source": [
    "# alltbl = None\n",
    "# for fn in glob.glob('../data/old/-0.5/MIST*'):\n",
    "#     tbl = Table.read(fn, header_start=12, format='ascii')\n",
    "#     if alltbl is None:\n",
    "#         alltbl = tbl\n",
    "#     else:\n",
    "#         for col in dup_cols:\n",
    "#             tbl.remove_column(col)\n",
    "#         alltbl = hstack((alltbl, tbl))\n",
    "# alltbl.write('../data/FeH-0.5_all.fits', overwrite=True)"
   ]
  },
  {
   "cell_type": "code",
   "execution_count": null,
   "metadata": {},
   "outputs": [],
   "source": [
    "iso = Table.read('../data/FeH-1_all.fits')\n",
    "DM = coord.Distance(25*u.kpc).distmod.value"
   ]
  },
  {
   "cell_type": "markdown",
   "metadata": {},
   "source": [
    "## Gaia DR2 alone:"
   ]
  },
  {
   "cell_type": "code",
   "execution_count": null,
   "metadata": {},
   "outputs": [],
   "source": [
    "fig, ax = plt.subplots(1, 1, figsize=(6, 6))\n",
    "for age in np.unique(iso['isochrone_age_yr'])[::2]:\n",
    "    i = iso[iso['isochrone_age_yr'] == age]\n",
    "    ax.plot(i['Gaia_BP_DR2Rev']-i['Gaia_RP_DR2Rev'],\n",
    "            i['Gaia_G_DR2Rev'] + DM, marker='')\n",
    "\n",
    "ax.set_ylim(21, 10)"
   ]
  },
  {
   "cell_type": "code",
   "execution_count": null,
   "metadata": {},
   "outputs": [],
   "source": [
    "q_fmt ='''SELECT *\n",
    "FROM gaiadr2.gaia_source\n",
    "WHERE parallax < 1 AND \n",
    "    CONTAINS(POINT('ICRS', ra, dec), \n",
    "             CIRCLE('ICRS', {0.ra.degree}, {0.dec.degree}, {1.degree})) = 1 AND\n",
    "    (pmra > -10) AND (pmra < 10) AND \n",
    "    (pmdec > -10) AND (pmdec < 10) \n",
    "'''\n",
    "q = q_fmt.format(cluster_c, field_radius)\n",
    "\n",
    "with warnings.catch_warnings():\n",
    "    warnings.simplefilter('ignore')\n",
    "    job = Gaia.launch_job_async(q)"
   ]
  },
  {
   "cell_type": "code",
   "execution_count": null,
   "metadata": {},
   "outputs": [],
   "source": [
    "tbl = job.get_results()\n",
    "\n",
    "for c in tbl.colnames:\n",
    "    if tbl[c].dtype == object:\n",
    "        tbl[c] = np.array(tbl[c]).astype(str)\n",
    "tbl.write('../data/gaiadr2.fits', overwrite=True)"
   ]
  },
  {
   "cell_type": "code",
   "execution_count": null,
   "metadata": {},
   "outputs": [],
   "source": [
    "fig, axes = plt.subplots(1, 2, figsize=(10, 5))\n",
    "\n",
    "ax = axes[0]\n",
    "ax.scatter(tbl['pmra'], tbl['pmdec'], alpha=0.3, s=6, linewidth=0)\n",
    "ax.set_xlim(-2, 2)\n",
    "ax.set_ylim(-2, 2)\n",
    "\n",
    "ax = axes[1]\n",
    "ax.scatter(tbl['phot_bp_mean_mag']-tbl['phot_rp_mean_mag'], \n",
    "           tbl['phot_g_mean_mag'], alpha=0.3, linewidth=0)\n",
    "\n",
    "i = iso[np.isclose(iso['isochrone_age_yr'], 1e8)]\n",
    "ax.plot(i['Gaia_BP_DR2Rev']-i['Gaia_RP_DR2Rev'],\n",
    "        i['Gaia_G_DR2Rev'] + DM, marker='')\n",
    "    \n",
    "ax.set_xlim(-1, 2.5)\n",
    "ax.set_ylim(21, 8)"
   ]
  },
  {
   "cell_type": "code",
   "execution_count": null,
   "metadata": {},
   "outputs": [],
   "source": [
    "_, bins, _ = plt.hist(tbl[np.isfinite(tbl['a_g_val'])]['a_g_val'], \n",
    "                      bins=np.logspace(-3, 0.5, 32), alpha=0.4);\n",
    "plt.hist(tbl[np.isfinite(tbl['e_bp_min_rp_val'])]['e_bp_min_rp_val'], \n",
    "         bins=bins, alpha=0.4);\n",
    "plt.xscale('log')"
   ]
  },
  {
   "cell_type": "markdown",
   "metadata": {},
   "source": [
    "## Pan-STARRS:"
   ]
  },
  {
   "cell_type": "code",
   "execution_count": null,
   "metadata": {},
   "outputs": [],
   "source": [
    "q_fmt ='''SELECT gaia.source_id, ps1.*\n",
    "FROM gaiadr2.gaia_source AS gaia\n",
    "INNER JOIN gaiadr2.panstarrs1_best_neighbour AS xmatch\n",
    "    ON gaia.source_id = xmatch.source_id\n",
    "INNER JOIN gaiadr2.panstarrs1_original_valid AS ps1\n",
    "    ON ps1.obj_id = xmatch.original_ext_source_id\n",
    "WHERE gaia.parallax < 1 AND \n",
    "    CONTAINS(POINT('ICRS', gaia.ra, gaia.dec), \n",
    "             CIRCLE('ICRS', {0.ra.degree}, {0.dec.degree}, {1.degree})) = 1 AND\n",
    "    (pmra > -10) AND (pmra < 10) AND \n",
    "    (pmdec > -10) AND (pmdec < 10) \n",
    "'''\n",
    "q = q_fmt.format(cluster_c, field_radius)\n",
    "\n",
    "with warnings.catch_warnings():\n",
    "    warnings.simplefilter('ignore')\n",
    "    job = Gaia.launch_job_async(q)"
   ]
  },
  {
   "cell_type": "code",
   "execution_count": null,
   "metadata": {},
   "outputs": [],
   "source": [
    "tbl = job.get_results()\n",
    "\n",
    "for c in tbl.colnames:\n",
    "    if tbl[c].dtype == object:\n",
    "        tbl[c] = np.array(tbl[c]).astype(str)\n",
    "tbl.write('../data/gaia-ps1.fits', overwrite=True)"
   ]
  },
  {
   "cell_type": "code",
   "execution_count": null,
   "metadata": {},
   "outputs": [],
   "source": [
    "fig, ax = plt.subplots(1, 1, figsize=(5, 5))\n",
    "\n",
    "ax.scatter(tbl['g_mean_psf_mag']-tbl['i_mean_psf_mag'], \n",
    "           tbl['g_mean_psf_mag'], alpha=0.3, linewidth=0)\n",
    "\n",
    "i = iso[np.isclose(iso['isochrone_age_yr'], 1e8)]\n",
    "ax.plot(i['PS_g']-i['PS_i'],\n",
    "        i['PS_g'] + DM, marker='')\n",
    "    \n",
    "ax.set_xlim(-1.2, 2.5)\n",
    "ax.set_ylim(21, 8)"
   ]
  },
  {
   "cell_type": "markdown",
   "metadata": {},
   "source": [
    "## Allwise:"
   ]
  },
  {
   "cell_type": "code",
   "execution_count": null,
   "metadata": {},
   "outputs": [],
   "source": [
    "q_fmt ='''SELECT gaia.source_id, wise.*\n",
    "FROM gaiadr2.gaia_source AS gaia\n",
    "INNER JOIN gaiadr2.allwise_best_neighbour AS xmatch\n",
    "    ON gaia.source_id = xmatch.source_id\n",
    "INNER JOIN gaiadr1.allwise_original_valid AS wise\n",
    "    ON wise.allwise_oid = xmatch.allwise_oid\n",
    "WHERE gaia.parallax < 1 AND \n",
    "    CONTAINS(POINT('ICRS', gaia.ra, gaia.dec), \n",
    "             CIRCLE('ICRS', {0.ra.degree}, {0.dec.degree}, {1.degree})) = 1 AND\n",
    "    (pmra > -10) AND (pmra < 10) AND \n",
    "    (pmdec > -10) AND (pmdec < 10) \n",
    "'''\n",
    "q = q_fmt.format(cluster_c, field_radius)\n",
    "\n",
    "with warnings.catch_warnings():\n",
    "    warnings.simplefilter('ignore')\n",
    "    job = Gaia.launch_job_async(q)"
   ]
  },
  {
   "cell_type": "code",
   "execution_count": null,
   "metadata": {},
   "outputs": [],
   "source": [
    "tbl = job.get_results()\n",
    "\n",
    "for c in tbl.colnames:\n",
    "    if tbl[c].dtype == object:\n",
    "        tbl[c] = np.array(tbl[c]).astype(str)\n",
    "        \n",
    "    tbl[c].unit = None\n",
    "    \n",
    "    tbl[c] = np.array(tbl[c])\n",
    "tbl.meta = dict()\n",
    "\n",
    "tbl.write('../data/gaia-allwise.fits', overwrite=True)"
   ]
  },
  {
   "cell_type": "markdown",
   "metadata": {},
   "source": [
    "## 2MASS:"
   ]
  },
  {
   "cell_type": "code",
   "execution_count": null,
   "metadata": {},
   "outputs": [],
   "source": [
    "q_fmt ='''SELECT gaia.source_id, tmass.*\n",
    "FROM gaiadr2.gaia_source AS gaia\n",
    "INNER JOIN gaiadr2.tmass_best_neighbour AS xmatch\n",
    "    ON gaia.source_id = xmatch.source_id\n",
    "INNER JOIN gaiadr1.tmass_original_valid AS tmass\n",
    "    ON tmass.tmass_oid = xmatch.tmass_oid\n",
    "WHERE gaia.parallax < 1 AND \n",
    "    CONTAINS(POINT('ICRS', gaia.ra, gaia.dec), \n",
    "             CIRCLE('ICRS', {0.ra.degree}, {0.dec.degree}, {1.degree})) = 1 AND\n",
    "    (pmra > -10) AND (pmra < 10) AND \n",
    "    (pmdec > -10) AND (pmdec < 10) \n",
    "'''\n",
    "q = q_fmt.format(cluster_c, field_radius)\n",
    "\n",
    "with warnings.catch_warnings():\n",
    "    warnings.simplefilter('ignore')\n",
    "    job = Gaia.launch_job_async(q)"
   ]
  },
  {
   "cell_type": "code",
   "execution_count": null,
   "metadata": {},
   "outputs": [],
   "source": [
    "tbl = job.get_results()\n",
    "\n",
    "for c in tbl.colnames:\n",
    "    if tbl[c].dtype == object:\n",
    "        tbl[c] = np.array(tbl[c]).astype(str)\n",
    "        \n",
    "    tbl[c].unit = None\n",
    "    \n",
    "    tbl[c] = np.array(tbl[c])\n",
    "tbl.meta = dict()\n",
    "\n",
    "tbl.write('../data/gaia-2mass.fits', overwrite=True)"
   ]
  },
  {
   "cell_type": "code",
   "execution_count": null,
   "metadata": {},
   "outputs": [],
   "source": [
    "fig, ax = plt.subplots(1, 1, figsize=(5, 5))\n",
    "\n",
    "ax.scatter(tbl['j_m']-tbl['h_m'], \n",
    "           tbl['j_m'], alpha=0.3, linewidth=0)\n",
    "\n",
    "i = iso[np.isclose(iso['isochrone_age_yr'], 1e8)]\n",
    "ax.plot(i['2MASS_J']-i['2MASS_H'],\n",
    "        i['2MASS_J'] + DM, marker='')\n",
    "    \n",
    "ax.set_xlim(-0.5, 1)\n",
    "ax.set_ylim(17, 5)"
   ]
  },
  {
   "cell_type": "markdown",
   "metadata": {},
   "source": [
    "## Galex:\n",
    "\n",
    "Manually downloaded 3 deg radius around (179, -29) here: http://vizier.u-strasbg.fr/viz-bin/VizieR-3"
   ]
  },
  {
   "cell_type": "markdown",
   "metadata": {},
   "source": [
    "Crossmatch with Gaia, manually"
   ]
  },
  {
   "cell_type": "code",
   "execution_count": null,
   "metadata": {},
   "outputs": [],
   "source": [
    "gaia = Table.read('../data/gaiadr2.fits')"
   ]
  },
  {
   "cell_type": "code",
   "execution_count": null,
   "metadata": {},
   "outputs": [],
   "source": [
    "galex = Table.read('../data/galex.fits')"
   ]
  },
  {
   "cell_type": "code",
   "execution_count": null,
   "metadata": {},
   "outputs": [],
   "source": [
    "gaia_c = coord.SkyCoord(ra=gaia['ra'], dec=gaia['dec'])\n",
    "galex_c = coord.SkyCoord(ra=galex['RAJ2000'], dec=galex['DEJ2000'])"
   ]
  },
  {
   "cell_type": "code",
   "execution_count": null,
   "metadata": {},
   "outputs": [],
   "source": [
    "idx, sep, _ = galex_c.match_to_catalog_sky(gaia_c)"
   ]
  },
  {
   "cell_type": "code",
   "execution_count": null,
   "metadata": {},
   "outputs": [],
   "source": [
    "plt.hist(sep.arcsecond, bins=np.logspace(-2, 1, 32));\n",
    "plt.xlim(1e-2, 10)\n",
    "plt.xscale('log')"
   ]
  },
  {
   "cell_type": "code",
   "execution_count": null,
   "metadata": {},
   "outputs": [],
   "source": [
    "galex_xmatch = galex[sep < 4*u.arcsec].copy()\n",
    "galex_xmatch['source_id'] = gaia[idx[sep < 4*u.arcsec]]['source_id']"
   ]
  },
  {
   "cell_type": "code",
   "execution_count": null,
   "metadata": {},
   "outputs": [],
   "source": [
    "galex_xmatch.write('../data/gaia-galex.fits')"
   ]
  },
  {
   "cell_type": "markdown",
   "metadata": {},
   "source": [
    "---\n",
    "\n",
    "## Join All The Things!"
   ]
  },
  {
   "cell_type": "code",
   "execution_count": null,
   "metadata": {},
   "outputs": [],
   "source": [
    "gaia = Table.read('../data/gaiadr2.fits')"
   ]
  },
  {
   "cell_type": "code",
   "execution_count": null,
   "metadata": {},
   "outputs": [],
   "source": [
    "all_tbl = gaia.copy()\n",
    "for fn in glob.glob('../data/gaia-*.fits'):\n",
    "    tbl_name = path.splitext(path.basename(fn))[0].split('-')[1]\n",
    "    tbl = Table.read(fn)\n",
    "\n",
    "    for c in tbl.colnames:\n",
    "        if c == 'source_id': \n",
    "            continue\n",
    "\n",
    "        tbl.rename_column(c, '{0}_{1}'.format(tbl_name, c))\n",
    "        \n",
    "    all_tbl = join(all_tbl, tbl, keys='source_id', join_type='left')"
   ]
  },
  {
   "cell_type": "code",
   "execution_count": null,
   "metadata": {},
   "outputs": [],
   "source": [
    "for c in all_tbl.colnames\n",
    "    all_tbl[c] = np.array(all_tbl[c])"
   ]
  },
  {
   "cell_type": "code",
   "execution_count": null,
   "metadata": {},
   "outputs": [],
   "source": [
    "all_tbl.write('../data/all-data-3deg.fits')"
   ]
  },
  {
   "cell_type": "code",
   "execution_count": null,
   "metadata": {},
   "outputs": [],
   "source": []
  },
  {
   "cell_type": "code",
   "execution_count": null,
   "metadata": {},
   "outputs": [],
   "source": []
  }
 ],
 "metadata": {
  "kernelspec": {
   "display_name": "Python [default]",
   "language": "python",
   "name": "python3"
  },
  "language_info": {
   "codemirror_mode": {
    "name": "ipython",
    "version": 3
   },
   "file_extension": ".py",
   "mimetype": "text/x-python",
   "name": "python",
   "nbconvert_exporter": "python",
   "pygments_lexer": "ipython3",
   "version": "3.6.4"
  }
 },
 "nbformat": 4,
 "nbformat_minor": 2
}