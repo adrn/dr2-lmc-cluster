{
 "cells": [
  {
   "cell_type": "code",
   "execution_count": null,
   "metadata": {},
   "outputs": [],
   "source": [
    "# Third-party\n",
    "import astropy.coordinates as coord\n",
    "import astropy.units as u\n",
    "import matplotlib as mpl\n",
    "import matplotlib.pyplot as plt\n",
    "import numpy as np\n",
    "%matplotlib inline\n",
    "\n",
    "from scipy.interpolate import InterpolatedUnivariateSpline\n",
    "\n",
    "from pyia import GaiaData\n",
    "from ezpadova import parsec\n",
    "from imf.brokenimf import new_kroupa_mass_distribution # borrowed from AMUSE"
   ]
  },
  {
   "cell_type": "code",
   "execution_count": null,
   "metadata": {},
   "outputs": [],
   "source": [
    "g = GaiaData('../data/products/gaia-selected.fits')"
   ]
  },
  {
   "cell_type": "code",
   "execution_count": null,
   "metadata": {},
   "outputs": [],
   "source": [
    "ms = new_kroupa_mass_distribution(100000)"
   ]
  },
  {
   "cell_type": "code",
   "execution_count": null,
   "metadata": {},
   "outputs": [],
   "source": [
    "plt.hist(ms.value, bins=np.logspace(-2, 2, 100));\n",
    "plt.xscale('log')\n",
    "plt.yscale('log')"
   ]
  },
  {
   "cell_type": "code",
   "execution_count": null,
   "metadata": {},
   "outputs": [],
   "source": [
    "_iso_cache = {}"
   ]
  },
  {
   "cell_type": "code",
   "execution_count": null,
   "metadata": {},
   "outputs": [],
   "source": [
    "import copy\n",
    "\n",
    "Zsun = 0.0152\n",
    "\n",
    "class PARSECIsochrone:\n",
    "    \n",
    "    _label_to_name = {0: 'PMS',\n",
    "                      1: 'MS',\n",
    "                      2: 'SGB',\n",
    "                      3: 'RGB',\n",
    "                      4: 'CHeB1',\n",
    "                      5: 'CHeB2',\n",
    "                      6: 'CHeB3',\n",
    "                      7: 'EAGB',\n",
    "                      8: 'TPAGB',\n",
    "                      9: 'WD'}\n",
    "    \n",
    "    def __init__(self, filename=None, tbl=None, age=None, phot=None, \n",
    "                 fe_h=None, Z=None, **kwargs):\n",
    "        \n",
    "        if filename is not None:\n",
    "            raise NotImplementedError()\n",
    "            \n",
    "        elif tbl is not None:\n",
    "            self.tbl = tbl\n",
    "            \n",
    "        else:\n",
    "            if age is None or phot is None or (fe_h is None and Z is None):\n",
    "                raise ValueError('If no filename is specified, you must pass '\n",
    "                                 'in age, photometry name, and metallicity '\n",
    "                                 'information. See `parsec.get_one_isochrone()`')\n",
    "        \n",
    "            if fe_h is not None and Z is not None:\n",
    "                raise ValueError('You can only specify one of Z or [Fe/H] (fe_h) '\n",
    "                                 'to specify the metallicity')\n",
    "                \n",
    "            if hasattr(age, 'unit'):\n",
    "                age = age.to(u.yr).value\n",
    "            \n",
    "            if isinstance(phot, str):\n",
    "                phot = [phot]\n",
    "                \n",
    "            if fe_h is not None:\n",
    "                Z = Zsun * 10**fe_h\n",
    "            \n",
    "            iso_tbls = []\n",
    "            for ph in phot:\n",
    "                cache_key = (age, Z, ph)\n",
    "                if cache_key in _iso_cache: # isochrone in cache\n",
    "                    iso = _iso_cache[cache_key]\n",
    "                \n",
    "                else: # download isochrone, not in cache\n",
    "                    iso = parsec.get_one_isochrone(age, Z, phot=ph)\n",
    "                    iso = iso.to_astropy_table()\n",
    "                    _iso_cache[cache_key] = iso\n",
    "                    \n",
    "                iso_tbls.append(iso)\n",
    "                \n",
    "            self.tbl = self._merge_isos(iso_tbls)\n",
    "        \n",
    "    def _merge_isos(self, isos):\n",
    "        if len(isos) == 0:\n",
    "            return\n",
    "        \n",
    "        master_iso = isos[0]\n",
    "\n",
    "        for iso in isos[1:]:\n",
    "            if len(iso) != len(master_iso):\n",
    "                raise ValueError('Lengths must match to merge isochrones.')\n",
    "\n",
    "            for c in iso.colnames:\n",
    "                if c in master_iso.colnames:\n",
    "                    continue\n",
    "\n",
    "                master_iso[c] = iso[c]\n",
    "\n",
    "        return master_iso\n",
    "    \n",
    "    ##########################################################################\n",
    "    # Python internal\n",
    "    #\n",
    "    \n",
    "    def __getattr__(self, name):\n",
    "        # to prevent recursion errors:\n",
    "        # nedbatchelder.com/blog/201010/surprising_getattr_recursion.html\n",
    "        if name in ['tbl']:\n",
    "            raise AttributeError()\n",
    "            \n",
    "        elif name not in self.tbl.colnames:\n",
    "            return self.__getattribute__(name)\n",
    "            \n",
    "        return self.tbl[name]\n",
    "\n",
    "    def __dir__(self):\n",
    "        return super().__dir__() + self.tbl.colnames\n",
    "    \n",
    "    def __getitem__(self, slc):\n",
    "        if isinstance(slc, int):\n",
    "            slc = slice(slc, slc+1)\n",
    "        return type(self)(tbl=self.tbl[slc])\n",
    "\n",
    "    def __len__(self):\n",
    "        return len(self.tbl)\n",
    "    \n",
    "    \n",
    "    ##########################################################################\n",
    "    # Custom\n",
    "    #\n",
    "    \n",
    "    @property\n",
    "    def stage_names(self):\n",
    "        if not hasattr(self, '_stage_names'):\n",
    "            self._stage_names = np.array([self._label_to_name[l] for l in self.label])\n",
    "        return self._stage_names"
   ]
  },
  {
   "cell_type": "code",
   "execution_count": null,
   "metadata": {},
   "outputs": [],
   "source": [
    "iso = PARSECIsochrone(age=150 * u.Myr,\n",
    "                      fe_h=-1.,\n",
    "                      phot=['gaiaDR2', 'decam'])"
   ]
  },
  {
   "cell_type": "code",
   "execution_count": null,
   "metadata": {},
   "outputs": [],
   "source": [
    "ms_iso = iso[iso.stage_names == 'MS']"
   ]
  },
  {
   "cell_type": "code",
   "execution_count": null,
   "metadata": {},
   "outputs": [],
   "source": [
    "interp_G = InterpolatedUnivariateSpline(iso.Mini, iso.Gmag, ext=3)\n",
    "interp_BPRP = InterpolatedUnivariateSpline(iso.Mini, iso.G_BPmag-iso.G_RPmag, ext=3)"
   ]
  },
  {
   "cell_type": "code",
   "execution_count": null,
   "metadata": {
    "scrolled": true
   },
   "outputs": [],
   "source": [
    "mini_grid = np.logspace(np.log10(0.08), np.log10(5), 1024)\n",
    "\n",
    "fig, axes = plt.subplots(1, 2, figsize=(10, 5), sharex=True)\n",
    "\n",
    "axes[0].plot(iso.Mini, iso.Gmag)\n",
    "axes[0].set_ylim(15, -5)\n",
    "axes[0].plot(mini_grid, interp_G(mini_grid), marker='')\n",
    "\n",
    "axes[1].plot(iso.Mini, iso.G_BPmag-iso.G_RPmag)\n",
    "axes[1].plot(mini_grid, interp_BPRP(mini_grid), marker='')"
   ]
  },
  {
   "cell_type": "code",
   "execution_count": null,
   "metadata": {},
   "outputs": [],
   "source": [
    "Gs = interp_G(ms.value)\n",
    "BPRPs = interp_BPRP(ms.value)\n",
    "DM = coord.Distance(30*u.kpc).distmod.value"
   ]
  },
  {
   "cell_type": "code",
   "execution_count": null,
   "metadata": {},
   "outputs": [],
   "source": [
    "fig, ax = plt.subplots(1, 1, figsize=(4, 6))\n",
    "ax.plot(BPRPs, Gs + DM, \n",
    "        marker='.', ls='none', alpha=0.3, color='k')\n",
    "\n",
    "ax.scatter(g.BP0 - g.RP0, g.G0, zorder=-100, \n",
    "           alpha=0.5, color='tab:green')\n",
    "\n",
    "nodes = np.array([[-0.25, 15.8],\n",
    "                  [0.12, 19.8],\n",
    "                  [-0.2, 20.1],\n",
    "                  [-0.5, 16.1],\n",
    "                  [-0.25, 15.8]])\n",
    "ax.plot(nodes[:, 0], nodes[:, 1], marker='', color='tab:blue', lw=2)\n",
    "cmd_path = mpl.patches.Path(nodes)\n",
    "\n",
    "ax.set_ylim(21, 12)\n",
    "ax.set_xlim(-1, 2)"
   ]
  },
  {
   "cell_type": "code",
   "execution_count": null,
   "metadata": {},
   "outputs": [],
   "source": [
    "sim_mask = cmd_path.contains_points(np.vstack((BPRPs, Gs + DM)).T)\n",
    "frac = len(g) / sim_mask.sum()"
   ]
  },
  {
   "cell_type": "code",
   "execution_count": null,
   "metadata": {},
   "outputs": [],
   "source": [
    "frac * ms.sum()"
   ]
  },
  {
   "cell_type": "code",
   "execution_count": null,
   "metadata": {},
   "outputs": [],
   "source": []
  }
 ],
 "metadata": {
  "kernelspec": {
   "display_name": "Python [default]",
   "language": "python",
   "name": "python3"
  },
  "language_info": {
   "codemirror_mode": {
    "name": "ipython",
    "version": 3
   },
   "file_extension": ".py",
   "mimetype": "text/x-python",
   "name": "python",
   "nbconvert_exporter": "python",
   "pygments_lexer": "ipython3",
   "version": "3.6.4"
  }
 },
 "nbformat": 4,
 "nbformat_minor": 2
}