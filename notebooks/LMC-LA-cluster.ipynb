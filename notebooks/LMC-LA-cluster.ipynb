{
 "cells": [
  {
   "cell_type": "code",
   "execution_count": null,
   "metadata": {},
   "outputs": [],
   "source": [
    "from os import path\n",
    "\n",
    "import astropy.coordinates as coord\n",
    "from astropy.table import Table\n",
    "import astropy.units as u\n",
    "from astropy.io import ascii\n",
    "from astropy.io import fits\n",
    "from astropy.wcs import WCS\n",
    "import reproject\n",
    "\n",
    "import numpy as np\n",
    "import matplotlib as mpl\n",
    "import matplotlib.pyplot as plt\n",
    "%matplotlib inline\n",
    "import h5py\n",
    "from scipy.spatial import cKDTree\n",
    "\n",
    "from pyia import GaiaData\n",
    "import gala.coordinates as gc\n",
    "from dustmaps.sfd import SFDQuery\n",
    "from astroquery.gaia import Gaia\n",
    "\n",
    "from sfd import reddening\n",
    "\n",
    "# Gaia.login(user='apricewh', password='7Gy2^otQNj6FKz6')"
   ]
  },
  {
   "cell_type": "code",
   "execution_count": null,
   "metadata": {},
   "outputs": [],
   "source": [
    "lmc_c = coord.SkyCoord.from_name('LMC')\n",
    "smc_c = coord.SkyCoord.from_name('SMC')"
   ]
  },
  {
   "cell_type": "code",
   "execution_count": null,
   "metadata": {},
   "outputs": [],
   "source": [
    "q_fmt ='''SELECT gaia.source_id, gaia.ra, gaia.dec, gaia.parallax, gaia.pmra, gaia.pmdec, gaia.radial_velocity, \n",
    "gaia.phot_g_mean_mag, gaia.phot_bp_mean_mag, gaia.phot_rp_mean_mag, \n",
    "ps1.g_mean_psf_mag, ps1.r_mean_psf_mag, ps1.i_mean_psf_mag, ps1.z_mean_psf_mag, ps1.y_mean_psf_mag\n",
    "FROM gaiadr2.gaia_source AS gaia\n",
    "INNER JOIN gaiadr2.panstarrs1_best_neighbour AS xmatch\n",
    "    ON gaia.source_id = xmatch.source_id\n",
    "INNER JOIN gaiadr2.panstarrs1_original_valid AS ps1\n",
    "    ON ps1.obj_id = xmatch.original_ext_source_id\n",
    "WHERE gaia.parallax < 1 AND \n",
    "    (ps1.g_mean_psf_mag - ps1.i_mean_psf_mag) > -1 AND \n",
    "    (ps1.g_mean_psf_mag - ps1.i_mean_psf_mag) < 1 AND \n",
    "    CONTAINS(POINT('ICRS', gaia.ra, gaia.dec), \n",
    "             CIRCLE('ICRS', {0.ra.degree}, {0.dec.degree}, {1})) = 1 AND\n",
    "    (pmra > -10) AND (pmra < 10) AND \n",
    "    (pmdec > -10) AND (pmdec < 10) \n",
    "'''"
   ]
  },
  {
   "cell_type": "code",
   "execution_count": null,
   "metadata": {},
   "outputs": [],
   "source": [
    "c = coord.SkyCoord(ra=179, dec=-29, unit=u.deg)"
   ]
  },
  {
   "cell_type": "code",
   "execution_count": null,
   "metadata": {},
   "outputs": [],
   "source": [
    "print(q_fmt.format(c, 3.))"
   ]
  },
  {
   "cell_type": "code",
   "execution_count": null,
   "metadata": {},
   "outputs": [],
   "source": [
    "fn = '../data/lmc-LAII-field.fits'\n",
    "if not path.exists(fn):\n",
    "    # job = Gaia.launch_job_async(q)\n",
    "    tbl = job.get_results()\n",
    "    tbl.write(fn)\n",
    "    \n",
    "g = GaiaData(fn)"
   ]
  },
  {
   "cell_type": "code",
   "execution_count": null,
   "metadata": {},
   "outputs": [],
   "source": [
    "c = g.get_skycoord(distance=False)\n",
    "A_grizy = reddening(c, 'PS1', 'grizy')"
   ]
  },
  {
   "cell_type": "code",
   "execution_count": null,
   "metadata": {},
   "outputs": [],
   "source": [
    "mag = dict()\n",
    "for i, m in enumerate('grizy'):\n",
    "    mag[m] = np.array(getattr(g, m + '_mean_psf_mag')) - A_grizy[:, i]"
   ]
  },
  {
   "cell_type": "code",
   "execution_count": null,
   "metadata": {},
   "outputs": [],
   "source": [
    "gi_g = np.vstack((mag['g']-mag['i'], mag['g'])).T\n",
    "rz_r = np.vstack((mag['r']-mag['z'], mag['r'])).T"
   ]
  },
  {
   "cell_type": "code",
   "execution_count": null,
   "metadata": {},
   "outputs": [],
   "source": [
    "fig, axes = plt.subplots(1, 2, figsize=(10, 5), sharey=True)\n",
    "\n",
    "axes[0].plot(gi_g[:, 0], gi_g[:, 1],\n",
    "             marker='.', linestyle='none', alpha=0.8)\n",
    "axes[0].set_xlabel('')\n",
    "axes[0].set_ylabel('')\n",
    "axes[0].set_xlim(-1, 1)\n",
    "axes[0].set_ylim(21, 12)\n",
    "\n",
    "gi_nodes = np.array([[-0.6, 16],\n",
    "                     [-0.4, 18.7],\n",
    "                     [0, 20],\n",
    "                     [0, 21],\n",
    "                     [-0.5, 20],\n",
    "                     [-0.7, 19],\n",
    "                     [-0.75, 17.],\n",
    "                     [-0.8, 16]])\n",
    "gi_path = mpl.patches.Path(gi_nodes)\n",
    "axes[0].plot(gi_nodes[:,0], gi_nodes[:,1])\n",
    "\n",
    "axes[1].plot(rz_r[:, 0], rz_r[:, 1],\n",
    "             marker='.', linestyle='none', alpha=0.8)\n",
    "axes[1].set_xlabel('')\n",
    "axes[1].set_ylabel('')\n",
    "axes[1].set_xlim(-1, 1)\n",
    "axes[1].set_ylim(21, 12)\n",
    "\n",
    "X = np.vstack((mag['g']-mag['i'], mag['g'])).T\n",
    "gi_mask = gi_path.contains_points(X)\n",
    "\n",
    "axes[0].set_xlabel(r'$g_{\\rm PS1} - i_{\\rm PS1}$')\n",
    "axes[0].set_ylabel(r'$g_{\\rm PS1}$')\n",
    "\n",
    "axes[1].set_xlabel(r'$r_{\\rm PS1} - z_{\\rm PS1}$')\n",
    "axes[1].set_ylabel(r'$r_{\\rm PS1}$')\n",
    "\n",
    "fig.tight_layout()\n",
    "# fig.savefig('/Users/adrian/Downloads/cmd.png', dpi=250)"
   ]
  },
  {
   "cell_type": "code",
   "execution_count": null,
   "metadata": {},
   "outputs": [],
   "source": [
    "# cmd_mask = ((mag['g']-mag['i']) < 0.) & ((mag['g']-mag['i']) > -0.5)\n",
    "cmd_mask = gi_mask"
   ]
  },
  {
   "cell_type": "code",
   "execution_count": null,
   "metadata": {},
   "outputs": [],
   "source": [
    "fig, axes = plt.subplots(1, 2, figsize=(12, 5.5))\n",
    "\n",
    "axes[0].plot(g.ra, g.dec,\n",
    "             marker='.', linestyle='none', \n",
    "             alpha=0.1, color='#aaaaaa')\n",
    "axes[0].plot(g.ra[cmd_mask], g.dec[cmd_mask],\n",
    "             marker='.', linestyle='none', alpha=1)\n",
    "axes[0].set_xlabel('RA')\n",
    "axes[0].set_ylabel('Dec')\n",
    "\n",
    "axes[1].plot(g.pmra, g.pmdec,\n",
    "             marker='.', linestyle='none', \n",
    "             alpha=0.4, color='#aaaaaa')\n",
    "axes[1].plot(g.pmra[cmd_mask], g.pmdec[cmd_mask],\n",
    "             marker='.', linestyle='none', alpha=1.)\n",
    "\n",
    "axes[1].set_xlim(-5, 5)\n",
    "axes[1].set_ylim(-5, 5)\n",
    "axes[1].set_xlabel('pmra')\n",
    "axes[1].set_ylabel('pmdec')\n",
    "\n",
    "fig.tight_layout()"
   ]
  },
  {
   "cell_type": "code",
   "execution_count": null,
   "metadata": {},
   "outputs": [],
   "source": [
    "pm_mask = np.sqrt((g.pmra - -0.5*u.mas/u.yr)**2 + (g.pmdec - 0.4*u.mas/u.yr)**2) < 0.7*u.mas/u.yr"
   ]
  },
  {
   "cell_type": "code",
   "execution_count": null,
   "metadata": {},
   "outputs": [],
   "source": [
    "fig, axes = plt.subplots(1, 2, figsize=(12, 5.5))\n",
    "\n",
    "axes[0].plot(g.ra, g.dec,\n",
    "             marker='.', linestyle='none', \n",
    "             alpha=0.1, color='#aaaaaa')\n",
    "axes[0].plot(g.ra[cmd_mask & pm_mask], g.dec[cmd_mask & pm_mask],\n",
    "             marker='.', linestyle='none', alpha=1)\n",
    "axes[0].set_xlabel('RA')\n",
    "axes[0].set_ylabel('Dec')\n",
    "\n",
    "axes[1].plot(g.pmra, g.pmdec,\n",
    "             marker='.', linestyle='none', \n",
    "             alpha=0.4, color='#aaaaaa')\n",
    "axes[1].plot(g.pmra[cmd_mask & pm_mask], g.pmdec[cmd_mask & pm_mask],\n",
    "             marker='.', linestyle='none', alpha=1.)\n",
    "\n",
    "axes[1].set_xlim(-5, 5)\n",
    "axes[1].set_ylim(-5, 5)\n",
    "axes[1].set_xlabel('pmra')\n",
    "axes[1].set_ylabel('pmdec')\n",
    "\n",
    "fig.tight_layout()"
   ]
  },
  {
   "cell_type": "code",
   "execution_count": null,
   "metadata": {},
   "outputs": [],
   "source": [
    "np.nanmean(g.parallax[cmd_mask & pm_mask])\n",
    "plt.hist(g.parallax[cmd_mask & pm_mask], bins=np.linspace(-0.5, 0.5, 16));"
   ]
  },
  {
   "cell_type": "markdown",
   "metadata": {},
   "source": [
    "Load LMC stream gas data from Nidever+2008"
   ]
  },
  {
   "cell_type": "code",
   "execution_count": null,
   "metadata": {},
   "outputs": [],
   "source": [
    "hdu = fits.open('/Users/adrian/data/Misc/allms_coldens_log.fits.gz')[0]"
   ]
  },
  {
   "cell_type": "code",
   "execution_count": null,
   "metadata": {},
   "outputs": [],
   "source": [
    "wcs = WCS(hdu.header)"
   ]
  },
  {
   "cell_type": "code",
   "execution_count": null,
   "metadata": {},
   "outputs": [],
   "source": [
    "fig, ax = plt.subplots(1, 1, figsize=(8, 6), subplot_kw=dict(projection=wcs))\n",
    "ax.imshow(hdu.data, origin='lower', )\n",
    "fig.tight_layout()"
   ]
  },
  {
   "cell_type": "code",
   "execution_count": null,
   "metadata": {},
   "outputs": [],
   "source": [
    "hdr = hdu.header.copy()\n",
    "hdr['CRVAL1'] = 40\n",
    "wcs2 = WCS(hdr)"
   ]
  },
  {
   "cell_type": "code",
   "execution_count": null,
   "metadata": {},
   "outputs": [],
   "source": [
    "arr, _ = reproject.reproject_interp(hdu, wcs2, shape_out=(1601, 3000))"
   ]
  },
  {
   "cell_type": "code",
   "execution_count": null,
   "metadata": {},
   "outputs": [],
   "source": [
    "fig, ax = plt.subplots(1, 1, figsize=(8, 6), subplot_kw=dict(projection=wcs2))\n",
    "\n",
    "# ax = fig.add_subplot(gs[0, :], projection=wcs2)\n",
    "ax.imshow(arr, origin='lower', cmap='Greys', vmin=15, vmax=25)\n",
    "# ax.scatter(60, -20, transform=ax.get_transform('world'))\n",
    "\n",
    "# ---\n",
    "# ax = fig.add_subplot(gs[1, 0], projection=wcs2)\n",
    "\n",
    "derp = c.transform_to(gc.MagellanicStream)\n",
    "ax.plot(derp.L.degree[cmd_mask & pm_mask], derp.B.degree[cmd_mask & pm_mask],\n",
    "        marker='.', linestyle='none', alpha=0.5,\n",
    "        transform=ax.get_transform('world'))\n",
    "# ax.set_xlabel('RA')\n",
    "# ax.set_ylabel('Dec')\n",
    "\n",
    "fig.tight_layout()\n",
    "\n",
    "# fig.savefig('/Users/adrian/Downloads/LMC-coords.png', dpi=250)"
   ]
  },
  {
   "cell_type": "code",
   "execution_count": null,
   "metadata": {},
   "outputs": [],
   "source": [
    "fig, axes = plt.subplots(1, 2, figsize=(10, 5), sharey=True)\n",
    "\n",
    "axes[0].plot(gi_g[pm_mask, 0], gi_g[pm_mask, 1],\n",
    "             marker='.', linestyle='none', alpha=0.8)\n",
    "axes[0].set_xlabel('')\n",
    "axes[0].set_ylabel('')\n",
    "axes[0].set_xlim(-1, 0.75)\n",
    "axes[0].set_ylim(21, 12)\n",
    "\n",
    "axes[1].plot(rz_r[pm_mask, 0], rz_r[pm_mask, 1],\n",
    "             marker='.', linestyle='none', alpha=0.8)\n",
    "axes[1].set_xlabel('')\n",
    "axes[1].set_ylabel('')\n",
    "axes[1].set_xlim(-1, 0.5)\n",
    "axes[1].set_ylim(21, 12)\n",
    "\n",
    "axes[0].set_xlabel(r'$g_{\\rm PS1} - i_{\\rm PS1}$')\n",
    "axes[0].set_ylabel(r'$g_{\\rm PS1}$')\n",
    "\n",
    "axes[1].set_xlabel(r'$r_{\\rm PS1} - z_{\\rm PS1}$')\n",
    "axes[1].set_ylabel(r'$r_{\\rm PS1}$')\n",
    "\n",
    "fig.tight_layout()"
   ]
  },
  {
   "cell_type": "code",
   "execution_count": null,
   "metadata": {},
   "outputs": [],
   "source": [
    "iso = Table.read('../data/MIST_iso_5afc2f0778826.iso.cmd', header_start=12, format='ascii')"
   ]
  },
  {
   "cell_type": "code",
   "execution_count": null,
   "metadata": {},
   "outputs": [],
   "source": [
    "DM = coord.Distance(25*u.kpc).distmod.value"
   ]
  },
  {
   "cell_type": "code",
   "execution_count": null,
   "metadata": {},
   "outputs": [],
   "source": [
    "fig, axes = plt.subplots(1, 2, figsize=(10, 5), sharey=True)\n",
    "\n",
    "axes[0].plot(gi_g[pm_mask, 0], gi_g[pm_mask, 1],\n",
    "             marker='.', linestyle='none', alpha=0.8)\n",
    "axes[0].set_xlabel('')\n",
    "axes[0].set_ylabel('')\n",
    "axes[0].set_xlim(-1, 0.75)\n",
    "axes[0].set_ylim(21, 12)\n",
    "\n",
    "axes[1].plot(rz_r[pm_mask, 0], rz_r[pm_mask, 1],\n",
    "             marker='.', linestyle='none', alpha=0.8)\n",
    "axes[1].set_xlabel('')\n",
    "axes[1].set_ylabel('')\n",
    "axes[1].set_xlim(-1, 0.5)\n",
    "axes[1].set_ylim(21, 12)\n",
    "\n",
    "axes[0].set_xlabel(r'$g_{\\rm PS1} - i_{\\rm PS1}$')\n",
    "axes[0].set_ylabel(r'$g_{\\rm PS1}$')\n",
    "\n",
    "axes[1].set_xlabel(r'$r_{\\rm PS1} - z_{\\rm PS1}$')\n",
    "axes[1].set_ylabel(r'$r_{\\rm PS1}$')\n",
    "\n",
    "# --- isochrones ---\n",
    "for age in np.unique(iso['isochrone_age_yr'])[:4]:\n",
    "    age_mask = iso['isochrone_age_yr'] == age\n",
    "    phase_mask = (iso['phase'] >= 0) & (iso['phase'] < 3)\n",
    "    sub_iso = iso[age_mask & phase_mask]    \n",
    "    \n",
    "    axes[0].plot(sub_iso['PS_g']-sub_iso['PS_i'], \n",
    "                 sub_iso['PS_g'] + DM,\n",
    "                 marker='', alpha=0.5, lw=2)\n",
    "    \n",
    "    axes[1].plot(sub_iso['PS_r']-sub_iso['PS_z'], \n",
    "                 sub_iso['PS_r'] + DM,\n",
    "                 marker='', label=r'${:.0f}\\,{{\\rm Myr}}$'.format(age/1e6),\n",
    "                 alpha=0.5, lw=2)\n",
    "    \n",
    "axes[1].legend(loc='upper left')\n",
    "\n",
    "fig.tight_layout()\n",
    "\n",
    "fig.savefig('../plots/isochrone.png', dpi=250)"
   ]
  },
  {
   "cell_type": "code",
   "execution_count": null,
   "metadata": {},
   "outputs": [],
   "source": [
    "from spectral_cube import SpectralCube"
   ]
  },
  {
   "cell_type": "code",
   "execution_count": null,
   "metadata": {},
   "outputs": [],
   "source": [
    "hdu = fits.open('/Users/adrian/Downloads/gass_289_32_1526493902.fits.gz')[0]"
   ]
  },
  {
   "cell_type": "code",
   "execution_count": null,
   "metadata": {},
   "outputs": [],
   "source": [
    "hdr = hdu.header\n",
    "del hdr['CUNIT3']"
   ]
  },
  {
   "cell_type": "code",
   "execution_count": null,
   "metadata": {},
   "outputs": [],
   "source": [
    "WCS(hdr)"
   ]
  },
  {
   "cell_type": "code",
   "execution_count": null,
   "metadata": {},
   "outputs": [],
   "source": [
    "hdu = fits.open('/Users/adrian/Downloads/gass_289_32_1526493902.fits.gz')[0]\n",
    "del hdu.header['CUNIT3']\n",
    "cube = SpectralCube.read(hdu)"
   ]
  },
  {
   "cell_type": "code",
   "execution_count": null,
   "metadata": {},
   "outputs": [],
   "source": [
    "cube[100,:,:].quicklook()"
   ]
  },
  {
   "cell_type": "code",
   "execution_count": null,
   "metadata": {},
   "outputs": [],
   "source": [
    "icrs = coord.SkyCoord(ra=g.ra[cmd_mask & pm_mask], \n",
    "                      dec=g.dec[cmd_mask & pm_mask])\n",
    "gal = icrs.transform_to(coord.Galactic)"
   ]
  },
  {
   "cell_type": "code",
   "execution_count": null,
   "metadata": {},
   "outputs": [],
   "source": [
    "sub_cube_slab = cube.spectral_slab(240*u.km/u.s, 260*u.km/u.s)\n",
    "sub_cube = sub_cube_slab.max(axis=0)"
   ]
  },
  {
   "cell_type": "code",
   "execution_count": null,
   "metadata": {},
   "outputs": [],
   "source": [
    "fig, ax = plt.subplots(1, 1, figsize=(6, 6), \n",
    "                       subplot_kw=dict(projection=sub_cube.wcs))\n",
    "\n",
    "# Display the slice\n",
    "im = ax.imshow(sub_cube.hdu.data, origin='lower', cmap='Greys_r', \n",
    "               vmin=-0.2, vmax=2)\n",
    "\n",
    "ax.scatter(gal.l.degree, gal.b.degree, \n",
    "           transform=ax.get_transform('galactic'),\n",
    "           marker='.')\n",
    "\n",
    "# # Add axes labels\n",
    "# ax.set_xlabel(\"LSR Velocity (m/s)\", fontsize = 16)\n",
    "# ax.set_ylabel(\"Galactic Longitude (degrees)\", fontsize = 16)\n",
    "\n",
    "fig.savefig('../plots/GASS.png', dpi=250)"
   ]
  },
  {
   "cell_type": "code",
   "execution_count": null,
   "metadata": {},
   "outputs": [],
   "source": [
    "icrs = coord.SkyCoord(ra=g.ra[cmd_mask & pm_mask], \n",
    "                      dec=g.dec[cmd_mask & pm_mask],\n",
    "                      distance=25*u.kpc,\n",
    "                      pm_ra_cosdec=g.pmra[cmd_mask & pm_mask], \n",
    "                      pm_dec=g.pmdec[cmd_mask & pm_mask],\n",
    "                      radial_velocity=250*u.km/u.s)"
   ]
  },
  {
   "cell_type": "code",
   "execution_count": null,
   "metadata": {},
   "outputs": [],
   "source": [
    "galcen = icrs.transform_to(coord.Galactocentric)"
   ]
  },
  {
   "cell_type": "code",
   "execution_count": null,
   "metadata": {},
   "outputs": [],
   "source": [
    "import gala.coordinates as gc\n",
    "import gala.dynamics as gd\n",
    "import gala.integrate as gi\n",
    "import gala.potential as gp\n",
    "from gala.units import galactic"
   ]
  },
  {
   "cell_type": "code",
   "execution_count": null,
   "metadata": {},
   "outputs": [],
   "source": [
    "w0 = gd.PhaseSpacePosition(galcen.cartesian)\n",
    "pot = gp.MilkyWayPotential()"
   ]
  },
  {
   "cell_type": "code",
   "execution_count": null,
   "metadata": {},
   "outputs": [],
   "source": [
    "orbit = pot.integrate_orbit(w0, dt=-0.25, n_steps=250)\n",
    "fig = orbit.cylindrical.plot(['rho', 'z'], color='k', alpha=0.1)\n",
    "fig.axes[0].set_xlim(0, 30)\n",
    "fig.axes[0].set_ylim(-15, 15)\n",
    "fig.axes[0].axhline(0, zorder=-1, color='tab:blue')\n",
    "print(orbit.t[-1])\n",
    "fig.savefig('../plots/orbits.png', dpi=250)"
   ]
  },
  {
   "cell_type": "code",
   "execution_count": null,
   "metadata": {},
   "outputs": [],
   "source": []
  },
  {
   "cell_type": "code",
   "execution_count": null,
   "metadata": {},
   "outputs": [],
   "source": []
  },
  {
   "cell_type": "code",
   "execution_count": null,
   "metadata": {},
   "outputs": [],
   "source": []
  }
 ],
 "metadata": {
  "kernelspec": {
   "display_name": "Python [default]",
   "language": "python",
   "name": "python3"
  },
  "language_info": {
   "codemirror_mode": {
    "name": "ipython",
    "version": 3
   },
   "file_extension": ".py",
   "mimetype": "text/x-python",
   "name": "python",
   "nbconvert_exporter": "python",
   "pygments_lexer": "ipython3",
   "version": "3.6.4"
  }
 },
 "nbformat": 4,
 "nbformat_minor": 2
}