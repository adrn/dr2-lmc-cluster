{
 "cells": [
  {
   "cell_type": "code",
   "execution_count": null,
   "metadata": {},
   "outputs": [],
   "source": [
    "import astropy.coordinates as coord\n",
    "from astropy.io import fits\n",
    "from astropy.table import Table, vstack\n",
    "import astropy.units as u\n",
    "import numpy as np\n",
    "import matplotlib as mpl\n",
    "import matplotlib.pyplot as plt\n",
    "%matplotlib inline\n",
    "\n",
    "from astropy.convolution import Gaussian2DKernel, convolve\n",
    "\n",
    "from pyia import GaiaData\n",
    "import gala.coordinates as gc\n",
    "from scipy.ndimage import gaussian_filter\n",
    "from scipy.stats import binned_statistic_2d\n",
    "from gala.mpl_style import hesperia, laguna, center_emph, center_deemph\n",
    "from tqdm import tqdm\n",
    "import dustmaps\n",
    "from dustmaps.sfd import SFDQuery"
   ]
  },
  {
   "cell_type": "code",
   "execution_count": null,
   "metadata": {},
   "outputs": [],
   "source": [
    "# import dustmaps.sfd\n",
    "# dustmaps.sfd.fetch()"
   ]
  },
  {
   "cell_type": "code",
   "execution_count": null,
   "metadata": {},
   "outputs": [],
   "source": [
    "L_lim = [-180, 180] * u.deg\n",
    "B_lim = [-80, 80] * u.deg"
   ]
  },
  {
   "cell_type": "code",
   "execution_count": null,
   "metadata": {},
   "outputs": [],
   "source": [
    "import scipy.stats\n",
    "\n",
    "def get_ext(G, bp, rp, ebv, maxnit=10):\n",
    "    \"\"\" Compute the Gaia extinctions assuming relations from Babusieux\n",
    "    Arguments: G, bp, rp, E(B-V)\n",
    "    maxnit -- number of iterations\n",
    "    Returns extinction in G,bp, rp\n",
    "    Author: Sergey Koposov skoposov@cmu.edu\n",
    "    \"\"\"\n",
    "    c1, c2, c3, c4, c5, c6, c7 = [0.9761, -0.1704,\n",
    "                                  0.0086, 0.0011, -0.0438, 0.0013, 0.0099]\n",
    "    d1, d2, d3, d4, d5, d6, d7 = [\n",
    "        1.1517, -0.0871, -0.0333, 0.0173, -0.0230, 0.0006, 0.0043]\n",
    "    e1, e2, e3, e4, e5, e6, e7 = [\n",
    "        0.6104, -0.0170, -0.0026, -0.0017, -0.0078, 0.00005, 0.0006]\n",
    "    A0 = 3.1*ebv\n",
    "    P1 = np.poly1d([c1, c2, c3, c4][::-1])\n",
    "\n",
    "    def F1(bprp): return np.poly1d(\n",
    "        [c1, c2, c3, c4][::-1])(bprp)+c5*A0+c6*A0**2+c7*bprp*A0\n",
    "\n",
    "    def F2(bprp): return np.poly1d(\n",
    "        [d1, d2, d3, d4][::-1])(bprp)+d5*A0+d6*A0**2+d7*bprp*A0\n",
    "\n",
    "    def F3(bprp): return np.poly1d(\n",
    "        [e1, e2, e3, e4][::-1])(bprp)+e5*A0+e6*A0**2+e7*bprp*A0\n",
    "    xind = np.isfinite(bp+rp+G)\n",
    "    curbp = bp-rp\n",
    "    for i in range(maxnit):\n",
    "        AG = F1(curbp)*A0\n",
    "        Abp = F2(curbp)*A0\n",
    "        Arp = F3(curbp)*A0\n",
    "        curbp1 = bp-rp-Abp+Arp\n",
    "        delta = np.abs(curbp1-curbp)[xind]\n",
    "        print(scipy.stats.scoreatpercentile(delta, 99))\n",
    "        curbp = curbp1\n",
    "    AG = F1(curbp)*A0\n",
    "    Abp = F2(curbp)*A0\n",
    "    Arp = F3(curbp)*A0\n",
    "    return AG, Abp, Arp"
   ]
  },
  {
   "cell_type": "code",
   "execution_count": null,
   "metadata": {},
   "outputs": [],
   "source": [
    "# M_G = 2*u.mag\n",
    "M_G = -1*u.mag\n",
    "coord.Distance(30*u.kpc).distmod + M_G"
   ]
  },
  {
   "cell_type": "markdown",
   "metadata": {},
   "source": [
    "### SFD map of region"
   ]
  },
  {
   "cell_type": "code",
   "execution_count": null,
   "metadata": {},
   "outputs": [],
   "source": [
    "LL = np.arange(L_lim[0].value, L_lim[1].value+0.1, 0.1)\n",
    "BB = np.arange(B_lim[0].value, B_lim[1].value+0.1, 0.1)\n",
    "LL, BB = np.meshgrid(LL, BB)\n",
    "coords = coord.SkyCoord(LL*u.deg, BB*u.deg,\n",
    "                        distance=1.*u.kpc, frame=gc.MagellanicStream).transform_to(coord.Galactic)"
   ]
  },
  {
   "cell_type": "code",
   "execution_count": null,
   "metadata": {},
   "outputs": [],
   "source": [
    "sfd = SFDQuery()\n",
    "EBV_grid_sfd = sfd(coords)"
   ]
  },
  {
   "cell_type": "code",
   "execution_count": null,
   "metadata": {},
   "outputs": [],
   "source": [
    "fig, ax = plt.subplots(1, 1, figsize=(15, 7))\n",
    "\n",
    "c = ax.pcolormesh(LL, BB, \n",
    "   EBV_grid_sfd,\n",
    "   cmap='binary',\n",
    "   norm=mpl.colors.LogNorm(vmin=1E-2, vmax=1e0)\n",
    ")\n",
    "\n",
    "ax.set_xlim(120, -140)\n",
    "ax.set_ylim(-60, 60)\n",
    "\n",
    "ax.set_xlabel(r'$L_{\\rm MS}$ [deg]')\n",
    "ax.set_ylabel(r'$B_{\\rm MS}$ [deg]')\n",
    "fig.tight_layout()\n",
    "\n",
    "fig.savefig('../plots/sfd_mag.png', dpi=250)"
   ]
  },
  {
   "cell_type": "markdown",
   "metadata": {},
   "source": [
    "BP-RP and G mag cuts to get ~A/B stars @ 30 kpc"
   ]
  },
  {
   "cell_type": "code",
   "execution_count": null,
   "metadata": {},
   "outputs": [],
   "source": [
    "# g = GaiaData('/Users/adrian/data/GaiaDR2/blue_distant.fits')\n",
    "g = GaiaData('/Users/adrian/Downloads/blue_distant_moar.fits')\n",
    "g = g[g.parallax < 0.5*u.mas]\n",
    "len(g)"
   ]
  },
  {
   "cell_type": "code",
   "execution_count": null,
   "metadata": {},
   "outputs": [],
   "source": [
    "c = coord.SkyCoord(ra=g.ra, dec=g.dec,\n",
    "                   distance=np.full(len(g), 35)*u.kpc,\n",
    "                   pm_ra_cosdec=g.pmra,\n",
    "                   pm_dec=g.pmdec,\n",
    "                   radial_velocity=np.zeros(len(g))*u.km/u.s)"
   ]
  },
  {
   "cell_type": "code",
   "execution_count": null,
   "metadata": {},
   "outputs": [],
   "source": [
    "EBV = sfd(c)"
   ]
  },
  {
   "cell_type": "code",
   "execution_count": null,
   "metadata": {},
   "outputs": [],
   "source": [
    "G = g.phot_g_mean_mag.value\n",
    "bp = g.phot_bp_mean_mag.value\n",
    "rp = g.phot_rp_mean_mag.value\n",
    "A_G, A_BP, A_RP = get_ext(G, bp, rp, EBV, 25)"
   ]
  },
  {
   "cell_type": "code",
   "execution_count": null,
   "metadata": {},
   "outputs": [],
   "source": [
    "ext_mask = (np.isfinite(A_G) & np.isfinite(A_BP) & np.isfinite(A_RP) & (A_G < 4) & \n",
    "            (g.phot_g_mean_mag < 20.2*u.mag))\n",
    "ext_mask.sum()"
   ]
  },
  {
   "cell_type": "code",
   "execution_count": null,
   "metadata": {},
   "outputs": [],
   "source": [
    "gal_c = c.galactic\n",
    "sag_c = c.transform_to(gc.Sagittarius)"
   ]
  },
  {
   "cell_type": "code",
   "execution_count": null,
   "metadata": {},
   "outputs": [],
   "source": [
    "mag_c = c.transform_to(gc.MagellanicStream)\n",
    "mag_c = gc.reflex_correct(mag_c)"
   ]
  },
  {
   "cell_type": "code",
   "execution_count": null,
   "metadata": {},
   "outputs": [],
   "source": [
    "L = mag_c.L.wrap_at(180*u.deg)\n",
    "B = mag_c.B\n",
    "\n",
    "lmc_mask = (np.sqrt(L**2 + (B-4*u.deg)**2) > 10*u.deg) # Remove LMC\n",
    "bridge_mask = (np.sqrt((L+10*u.deg)**2 + (B+6*u.deg)**2) > 4*u.deg) # Remove bridge\n",
    "smc_mask = (np.sqrt((L+15*u.deg)**2 + (B+11*u.deg)**2) > 5*u.deg) # Remove SMC    \n",
    "mag_mask = lmc_mask & smc_mask & bridge_mask\n",
    "    \n",
    "lmc_ann_mask = ((np.sqrt(L**2 + (B-4*u.deg)**2) > 5*u.deg) & \n",
    "                (np.sqrt(L**2 + (B-4*u.deg)**2) < 30*u.deg))"
   ]
  },
  {
   "cell_type": "code",
   "execution_count": null,
   "metadata": {},
   "outputs": [],
   "source": [
    "fig, ax = plt.subplots(1, 1, figsize=(15, 5))\n",
    "\n",
    "ax.plot(mag_c.L.wrap_at(180*u.deg).degree[ext_mask & mag_mask], \n",
    "        mag_c.B.degree[ext_mask & mag_mask], \n",
    "        linestyle='none', marker=',', alpha=0.2)\n",
    "\n",
    "ax.set_xlim(L_lim[1].to(u.degree).value, L_lim[0].to(u.degree).value)\n",
    "ax.set_ylim(B_lim[0].to(u.degree).value, B_lim[1].to(u.degree).value)\n",
    "\n",
    "# --- \n",
    "\n",
    "fig, ax = plt.subplots(1, 1, figsize=(15, 5))\n",
    "\n",
    "ax.plot(c.ra.degree[ext_mask & mag_mask], \n",
    "        c.dec.degree[ext_mask & mag_mask], \n",
    "        linestyle='none', marker=',', alpha=0.2)\n",
    "\n",
    "# ax.set_xlim(L_lim[1].to(u.degree).value, L_lim[0].to(u.degree).value)\n",
    "# ax.set_ylim(B_lim[0].to(u.degree).value, B_lim[1].to(u.degree).value)\n",
    "\n",
    "# --- \n",
    "\n",
    "fig, ax = plt.subplots(1, 1, figsize=(15, 5))\n",
    "\n",
    "ax.plot(c.galactic.l.wrap_at(180*u.deg).degree[ext_mask & mag_mask], \n",
    "        c.galactic.b.degree[ext_mask & mag_mask], \n",
    "        linestyle='none', marker=',', alpha=0.2)\n",
    "\n",
    "# ax.set_xlim(L_lim[1].to(u.degree).value, L_lim[0].to(u.degree).value)\n",
    "# ax.set_ylim(B_lim[0].to(u.degree).value, B_lim[1].to(u.degree).value)"
   ]
  },
  {
   "cell_type": "code",
   "execution_count": null,
   "metadata": {},
   "outputs": [],
   "source": [
    "bprp0 = (g.phot_bp_mean_mag - g.phot_rp_mean_mag) - (A_BP - A_RP)*u.mag\n",
    "G0 = g.phot_g_mean_mag - A_G*u.mag"
   ]
  },
  {
   "cell_type": "markdown",
   "metadata": {},
   "source": [
    "First, to get a sense, we'll plot a CMD of LMC stars selected from an outer annulus:"
   ]
  },
  {
   "cell_type": "code",
   "execution_count": null,
   "metadata": {},
   "outputs": [],
   "source": [
    "spur1_mask = (bprp0 > -0.5*u.mag) & (G0 < (20*bprp0 + 17.5*u.mag)) & (G0 < 19*u.mag)\n",
    "spur2_mask = (G0 < (20*(bprp0+1*u.mag) + 5.*u.mag)) & (bprp0 < 0.5*u.mag) & (G0 > 17*u.mag)\n",
    "spur3_mask = (bprp0 > -1.1*u.mag) & (bprp0 < -.4*u.mag) & (G0 > (10*(bprp0+1*u.mag) + 12.*u.mag))\n",
    "spur4_mask = (bprp0 < -1*u.mag) & (G0 > (10*(bprp0+1*u.mag) + 16*u.mag))\n",
    "\n",
    "fig, ax = plt.subplots(1, 1, figsize=(6, 6))\n",
    "\n",
    "# ax.plot(bprp0[lmc_ann_mask], G0[lmc_ann_mask], \n",
    "#         marker='.', linestyle='none', alpha=0.2)\n",
    "H, xe, ye = np.histogram2d(bprp0[lmc_ann_mask & smc_mask], G0[lmc_ann_mask & smc_mask],\n",
    "                           bins=(np.arange(-2, 0.8+1E-3, 0.05),\n",
    "                                 np.arange(10, 20.5, 0.05)))\n",
    "\n",
    "ax.pcolormesh(xe, ye, np.log10(H.T))\n",
    "\n",
    "# ax.plot(bprp0[lmc_ann_mask & spur1_mask], G0[lmc_ann_mask & spur1_mask], \n",
    "#         marker='.', linestyle='none', alpha=0.2)\n",
    "\n",
    "# ax.plot(bprp0[lmc_ann_mask & spur2_mask], G0[lmc_ann_mask & spur2_mask], \n",
    "#         marker='.', linestyle='none', alpha=0.02)\n",
    "\n",
    "# ax.plot(bprp0[lmc_ann_mask & spur3_mask], G0[lmc_ann_mask & spur3_mask], \n",
    "#         marker='.', linestyle='none', alpha=0.2)\n",
    "\n",
    "# ax.plot(bprp0[lmc_ann_mask & spur4_mask], G0[lmc_ann_mask & spur4_mask], \n",
    "#         marker='.', linestyle='none', alpha=0.2)\n",
    "\n",
    "# ax.set_aspect('equal')\n",
    "\n",
    "ax.axhline(coord.Distance(50*u.kpc).distmod.value + 1.)\n",
    "\n",
    "ax.set_xlim(-1, 0.8)\n",
    "ax.set_ylim(20, 12)"
   ]
  },
  {
   "cell_type": "code",
   "execution_count": null,
   "metadata": {},
   "outputs": [],
   "source": [
    "fig, axes = plt.subplots(1, 4, figsize=(20, 5), sharex=True, sharey=True)\n",
    "\n",
    "axes[0].plot(mag_c.pm_L_cosB[lmc_ann_mask & spur1_mask], mag_c.pm_B[lmc_ann_mask & spur1_mask], \n",
    "             linestyle='none', marker=',', alpha=0.2)\n",
    "\n",
    "axes[1].plot(mag_c.pm_L_cosB[lmc_ann_mask & spur2_mask], mag_c.pm_B[lmc_ann_mask & spur2_mask], \n",
    "             linestyle='none', marker=',', alpha=0.2)\n",
    "\n",
    "axes[2].plot(mag_c.pm_L_cosB[lmc_ann_mask & spur3_mask], mag_c.pm_B[lmc_ann_mask & spur3_mask], \n",
    "             linestyle='none', marker=',', alpha=0.2)\n",
    "\n",
    "axes[3].plot(mag_c.pm_L_cosB[lmc_ann_mask & spur4_mask], mag_c.pm_B[lmc_ann_mask & spur4_mask], \n",
    "             linestyle='none', marker=',', alpha=0.2)\n",
    "\n",
    "\n",
    "fig, axes = plt.subplots(1, 4, figsize=(20, 5), sharex=True, sharey=True)\n",
    "\n",
    "axes[0].plot(mag_c.L.wrap_at(180*u.deg).degree[lmc_ann_mask & spur1_mask], \n",
    "             mag_c.B.degree[lmc_ann_mask & spur1_mask], \n",
    "             linestyle='none', marker='.', alpha=0.1)\n",
    "\n",
    "axes[1].plot(mag_c.L.wrap_at(180*u.deg).degree[lmc_ann_mask & spur2_mask], \n",
    "             mag_c.B.degree[lmc_ann_mask & spur2_mask], \n",
    "             linestyle='none', marker='.', alpha=0.1)\n",
    "\n",
    "axes[2].plot(mag_c.L.wrap_at(180*u.deg).degree[lmc_ann_mask & spur3_mask], \n",
    "             mag_c.B.degree[lmc_ann_mask & spur3_mask], \n",
    "             linestyle='none', marker='.', alpha=0.8)\n",
    "\n",
    "axes[3].plot(mag_c.L.wrap_at(180*u.deg).degree[lmc_ann_mask & spur4_mask], \n",
    "             mag_c.B.degree[lmc_ann_mask & spur4_mask], \n",
    "             linestyle='none', marker='.', alpha=0.8)"
   ]
  },
  {
   "cell_type": "markdown",
   "metadata": {},
   "source": [
    "---"
   ]
  },
  {
   "cell_type": "code",
   "execution_count": null,
   "metadata": {},
   "outputs": [],
   "source": [
    "g2 = GaiaData.from_query('''SELECT *\n",
    "FROM gaiadr2.gaia_source\n",
    "WHERE parallax < 1 AND bp_rp > -1 AND bp_rp < 2 AND\n",
    "      CONTAINS(POINT('ICRS', ra, dec), \n",
    "               CIRCLE('ICRS', 78.52816666666665, -40.04655555555556, 0.08333333333333333))=1 AND\n",
    "      (pmra > -15) AND (pmra < 15) AND \n",
    "      (pmdec > -15) AND (pmdec < 15)\n",
    "''')"
   ]
  },
  {
   "cell_type": "code",
   "execution_count": null,
   "metadata": {},
   "outputs": [],
   "source": [
    "ngc_c = coord.SkyCoord(ra=g2.ra, dec=g2.dec, distance=100*u.kpc)\n",
    "ngc_EBV = sfd(ngc_c)\n",
    "G = g2.phot_g_mean_mag.value\n",
    "bp = g2.phot_bp_mean_mag.value\n",
    "rp = g2.phot_rp_mean_mag.value\n",
    "ngc_A_G, ngc_A_BP, ngc_A_RP = get_ext(G, bp, rp, ngc_EBV)\n",
    "\n",
    "ngc_bprp0 = (g2.phot_bp_mean_mag - g2.phot_rp_mean_mag) - (ngc_A_BP - ngc_A_RP)*u.mag\n",
    "ngc_G0 = g2.phot_g_mean_mag - ngc_A_G*u.mag"
   ]
  },
  {
   "cell_type": "code",
   "execution_count": null,
   "metadata": {},
   "outputs": [],
   "source": [
    "ngc_MG0 = ngc_G0 - coord.Distance(12.1*u.kpc).distmod\n",
    "# H, xe, ye = np.histogram2d(ngc_bprp0, ngc_G0,\n",
    "#                            bins=(np.arange(-1, 1.5+1E-3, 0.05),\n",
    "#                                  np.arange(8, 20.5, 0.05)))\n",
    "\n",
    "fig, ax = plt.subplots(1, 1, figsize=(6, 6))\n",
    "\n",
    "# ax.pcolormesh(xe, ye, np.log10(H.T))\n",
    "ax.scatter(ngc_bprp0, ngc_MG0)\n",
    "ax.set_ylim(5, -3)"
   ]
  },
  {
   "cell_type": "markdown",
   "metadata": {},
   "source": [
    "---"
   ]
  },
  {
   "cell_type": "code",
   "execution_count": null,
   "metadata": {},
   "outputs": [],
   "source": [
    "# more_mask = (G0 > 16.*u.mag) & (bprp0 > -0.5*u.mag)\n",
    "# more_mask = (bprp0 < 0*u.mag) & (bprp0 > -0.4*u.mag)\n",
    "# more_mask = (bprp0 < 0.35*u.mag) & (bprp0 > -0*u.mag) & (G0 > (2.5/0.5*bprp0 + 17.5*u.mag))\n",
    "\n",
    "\n",
    "fig, ax = plt.subplots(1, 1, figsize=(6, 6))\n",
    "\n",
    "H, xe, ye = np.histogram2d(bprp0[ext_mask & mag_mask], G0[ext_mask & mag_mask],\n",
    "                           bins=(np.arange(-2, 0.8+1E-3, 0.05),\n",
    "                                 np.arange(10, 20.5, 0.05)))\n",
    "\n",
    "ax.pcolormesh(xe, ye, np.log10(H.T))\n",
    "\n",
    "for d in [25, 50, 75]*u.kpc:\n",
    "    ax.axhline(coord.Distance(d).distmod.value + 1.)\n",
    "    \n",
    "    \n",
    "# ATTEMPT 1: BHB?!\n",
    "# xx = np.linspace(-1, 0.8, 128)\n",
    "# ax.plot(xx, 30*(xx+0.1)+16)\n",
    "# ax.plot(xx, 30*(xx-0.2)+16)\n",
    "\n",
    "# more_mask = ((G0 < 19.5*u.mag) & (G0 > 18.*u.mag) &\n",
    "#              (G0 < (30*(bprp0+0.1*u.mag)+16*u.mag)) & \n",
    "#              (G0 > (30*(bprp0-0.2*u.mag)+16*u.mag)))\n",
    "\n",
    "# ATTEMPT 2: redder HB??\n",
    "# # - ah: these are like red clump stars? so really make outer disk features pop...\n",
    "# more_mask = ((G0 < 20*u.mag) & (G0 > 15.*u.mag) &\n",
    "#              (bprp0 > 0.5*u.mag) & (bprp0 < 0.8*u.mag))\n",
    "\n",
    "\n",
    "# ATTEMPT 3: now trying HB generically\n",
    "# more_mask = ((G0 < 20*u.mag) & (G0 > 17.5*u.mag) &\n",
    "#              (bprp0 > -0.15*u.mag) & (bprp0 < 0.1*u.mag))\n",
    "more_mask = ((bprp0 < -0.5*u.mag) & (bprp0 > -1.5*u.mag) & \n",
    "             (G0 > 17.*u.mag))\n",
    "\n",
    "# YE OLDE SELECTION:\n",
    "# more_mask = ((bprp0 < 0.1*u.mag) & (bprp0 > -0.7*u.mag) & \n",
    "#              (G0 > (2.5/0.5*bprp0 + 17.5*u.mag)) &\n",
    "#              (G0 > 17.5*u.mag))\n",
    "\n",
    "\n",
    "ax.plot(bprp0[ext_mask & mag_mask & more_mask], \n",
    "        G0[ext_mask & mag_mask & more_mask], \n",
    "        marker=',', linestyle='none', alpha=1, color='tab:orange')\n",
    "\n",
    "ax.scatter(ngc_bprp0, ngc_MG0 + coord.Distance(50*u.kpc).distmod, color='k', zorder=100)\n",
    "ax.scatter(ngc_bprp0, ngc_MG0 + coord.Distance(25*u.kpc).distmod, color='k', zorder=100)\n",
    "\n",
    "ax.set_xlim(-1.5, 0.8)\n",
    "ax.set_ylim(20, 12)\n",
    "# ax.set_ylim(12, 20)"
   ]
  },
  {
   "cell_type": "code",
   "execution_count": null,
   "metadata": {},
   "outputs": [],
   "source": [
    "all_mask = mag_mask & ext_mask & more_mask"
   ]
  },
  {
   "cell_type": "code",
   "execution_count": null,
   "metadata": {},
   "outputs": [],
   "source": [
    "# pm_mask = (mag_c.pm_B > -0.1*u.mas/u.yr) & (mag_c.pm_B < 3*u.mas/u.yr)\n",
    "# pm_mask = np.abs(mag_c.pm_B) < 0.6*u.mas/u.yr\n",
    "# pm_mask = np.ones(len(mag_c)).astype(bool)\n",
    "# pm_mask = np.sqrt((mag_c.pm_L_cosB - -2.3*u.mas/u.yr)**2 + (mag_c.pm_B - -1.5*u.mas/u.yr)**2) < 0.5*u.mas/u.yr\n",
    "\n",
    "left_mask = (((mag_c.B > 30*u.deg) & (mag_c.B < 60*u.deg) &\n",
    "              (mag_c.L.wrap_at(180*u.deg) > -110*u.deg) & (mag_c.L.wrap_at(180*u.deg) < -20*u.deg)) |\n",
    "             ((mag_c.B > -60*u.deg) & (mag_c.B < -20*u.deg) &\n",
    "              (mag_c.L.wrap_at(180*u.deg) > 50*u.deg) & (mag_c.L.wrap_at(180*u.deg) < 100*u.deg))\n",
    "             & ext_mask & more_mask)"
   ]
  },
  {
   "cell_type": "code",
   "execution_count": null,
   "metadata": {},
   "outputs": [],
   "source": [
    "pm_bins = np.arange(-4, 4+0.1, 0.1)\n",
    "\n",
    "maggg = (ext_mask & more_mask & (~lmc_mask | ~smc_mask))\n",
    "mag_pm, pm_x, pm_y = np.histogram2d(c.pm_ra_cosdec[maggg].value, \n",
    "                                    c.pm_dec[maggg].value,\n",
    "                                    bins=(pm_bins, pm_bins))\n",
    "\n",
    "fg_pm, pm_x, pm_y = np.histogram2d(c.pm_ra_cosdec[all_mask].value, \n",
    "                                   c.pm_dec[all_mask].value,\n",
    "                                   bins=(pm_bins, pm_bins))\n",
    "\n",
    "bg_pm, pm_x, pm_y = np.histogram2d(c.pm_ra_cosdec[left_mask].value, \n",
    "                                   c.pm_dec[left_mask].value,\n",
    "                                   bins=(pm_bins, pm_bins))\n",
    "\n",
    "fig, axes = plt.subplots(1, 4, figsize=(16, 5), sharex=True, sharey=True)\n",
    "\n",
    "axes[0].pcolormesh(pm_x, pm_y, mag_pm.T)\n",
    "axes[0].set_title('LMC/SMC')\n",
    "\n",
    "axes[1].pcolormesh(pm_x, pm_y, fg_pm.T)\n",
    "axes[1].set_title('fg')\n",
    "\n",
    "axes[2].pcolormesh(pm_x, pm_y, bg_pm.T)\n",
    "axes[2].set_title('bg')\n",
    "\n",
    "axes[3].pcolormesh(pm_x, pm_y, fg_pm.T/(57600) - bg_pm.T/4700.)\n",
    "\n",
    "fig.tight_layout()"
   ]
  },
  {
   "cell_type": "code",
   "execution_count": null,
   "metadata": {},
   "outputs": [],
   "source": [
    "pm_bins = np.arange(-4, 4+0.1, 0.1)\n",
    "\n",
    "maggg = (ext_mask & more_mask & (~lmc_mask | ~smc_mask))\n",
    "mag_pm, pm_x, pm_y = np.histogram2d(gal_c.pm_l_cosb[maggg].value, \n",
    "                                    gal_c.pm_b[maggg].value,\n",
    "                                    bins=(pm_bins, pm_bins))\n",
    "\n",
    "fg_pm, pm_x, pm_y = np.histogram2d(gal_c.pm_l_cosb[all_mask].value, \n",
    "                                   gal_c.pm_b[all_mask].value,\n",
    "                                   bins=(pm_bins, pm_bins))\n",
    "\n",
    "bg_pm, pm_x, pm_y = np.histogram2d(gal_c.pm_l_cosb[left_mask].value, \n",
    "                                   gal_c.pm_b[left_mask].value,\n",
    "                                   bins=(pm_bins, pm_bins))\n",
    "\n",
    "fig, axes = plt.subplots(1, 4, figsize=(16, 5), sharex=True, sharey=True)\n",
    "\n",
    "axes[0].pcolormesh(pm_x, pm_y, mag_pm.T)\n",
    "axes[0].set_title('LMC/SMC')\n",
    "\n",
    "axes[1].pcolormesh(pm_x, pm_y, fg_pm.T)\n",
    "axes[1].set_title('fg')\n",
    "\n",
    "axes[2].pcolormesh(pm_x, pm_y, bg_pm.T)\n",
    "axes[2].set_title('bg')\n",
    "\n",
    "axes[3].pcolormesh(pm_x, pm_y, fg_pm.T/(57600) - bg_pm.T/4700.)\n",
    "\n",
    "fig.tight_layout()"
   ]
  },
  {
   "cell_type": "code",
   "execution_count": null,
   "metadata": {},
   "outputs": [],
   "source": [
    "pm_bins = np.arange(-5, 5+0.1, 0.1)\n",
    "\n",
    "maggg = (ext_mask & more_mask & (~lmc_mask | ~smc_mask))\n",
    "mag_pm, pm_x, pm_y = np.histogram2d(mag_c.pm_L_cosB[maggg].value, \n",
    "                                    mag_c.pm_B[maggg].value,\n",
    "                                    bins=(pm_bins, pm_bins))\n",
    "\n",
    "fg_pm, pm_x, pm_y = np.histogram2d(mag_c.pm_L_cosB[all_mask].value, \n",
    "                                   mag_c.pm_B[all_mask].value,\n",
    "                                   bins=(pm_bins, pm_bins))\n",
    "\n",
    "bg_pm, pm_x, pm_y = np.histogram2d(mag_c.pm_L_cosB[left_mask].value, \n",
    "                                   mag_c.pm_B[left_mask].value,\n",
    "                                   bins=(pm_bins, pm_bins))\n",
    "\n",
    "fig, axes = plt.subplots(1, 4, figsize=(16, 5), sharex=True, sharey=True)\n",
    "\n",
    "axes[0].pcolormesh(pm_x, pm_y, mag_pm.T)#, norm=mpl.colors.LogNorm())\n",
    "axes[0].set_title('LMC/SMC')\n",
    "\n",
    "axes[1].pcolormesh(pm_x, pm_y, fg_pm.T)#, norm=mpl.colors.LogNorm())\n",
    "axes[1].set_title('fg')\n",
    "\n",
    "axes[2].pcolormesh(pm_x, pm_y, bg_pm.T)#, norm=mpl.colors.LogNorm())\n",
    "axes[2].set_title('bg')\n",
    "\n",
    "axes[3].pcolormesh(pm_x, pm_y, fg_pm.T/(57600) - bg_pm.T/4700.)\n",
    "\n",
    "for ax in axes: \n",
    "    r = mpl.patches.Ellipse((0.9, 0.1), width=2, height=2.2, facecolor='none', edgecolor='tab:red')\n",
    "    ax.add_patch(r)\n",
    "    \n",
    "for ax in axes: \n",
    "    r = mpl.patches.Ellipse((-1.2, 0.1), width=2, height=2.2, facecolor='none', edgecolor='tab:red')\n",
    "    ax.add_patch(r)\n",
    "\n",
    "fig.tight_layout()"
   ]
  },
  {
   "cell_type": "code",
   "execution_count": null,
   "metadata": {},
   "outputs": [],
   "source": [
    "def in_ellipse(pts, ctr, width, height):\n",
    "    rx = width/2\n",
    "    ry = height/2\n",
    "    return np.sqrt(((pts[0] - ctr[0])/rx)**2 + ((pts[1] - ctr[1])/ry)**2) < 1"
   ]
  },
  {
   "cell_type": "code",
   "execution_count": null,
   "metadata": {},
   "outputs": [],
   "source": [
    "# Sgr:\n",
    "# pm_mask = np.sqrt((mag_c.pm_L_cosB - 0.2*u.mas/u.yr)**2 + \n",
    "#                   (mag_c.pm_B - 2.5*u.mas/u.yr)**2) < 1.2*u.mas/u.yr\n",
    "# pm_mask |= np.sqrt((mag_c.pm_L_cosB - 1*u.mas/u.yr)**2 + \n",
    "#                    (mag_c.pm_B - -2.*u.mas/u.yr)**2) < 1.2*u.mas/u.yr\n",
    "\n",
    "# Mag stream?!\n",
    "pts = np.vstack((mag_c.pm_L_cosB.value, mag_c.pm_B.value))\n",
    "pm_mask = (in_ellipse(pts, [0.9, 0.1], 2, 2.2) & \n",
    "           (c.pm_ra_cosdec > -0.2*u.mas/u.yr))\n",
    "\n",
    "pm_control_mask = (in_ellipse(pts, [-1.2, 0.1], 2, 2.2) & \n",
    "                   (c.pm_ra_cosdec > -0.2*u.mas/u.yr))\n",
    "\n",
    "# pm_mask = np.ones(len(g)).astype(bool)\n",
    "pm_mask.sum(), pm_control_mask.sum()"
   ]
  },
  {
   "cell_type": "code",
   "execution_count": null,
   "metadata": {},
   "outputs": [],
   "source": [
    "fig, ax = plt.subplots(1, 1, figsize=(6, 6))\n",
    "\n",
    "H, xe, ye = np.histogram2d(bprp0[mag_mask & ext_mask & pm_mask], \n",
    "                           G0[mag_mask & ext_mask & pm_mask],\n",
    "                           bins=(np.arange(-2, 0.8+1E-3, 0.05),\n",
    "                                 np.arange(10, 20.5, 0.05)))\n",
    "\n",
    "ax.pcolormesh(xe, ye, np.log10(H.T))\n",
    "\n",
    "for d in [20, 50, 75]*u.kpc:\n",
    "    ax.axhline(coord.Distance(d).distmod.value + 1.)\n",
    "\n",
    "xxx = np.linspace(-1.5, 1.5, 128)\n",
    "ax.plot(xxx, 25*(xxx-0.3) + 18.7)\n",
    "ax.plot(xxx, 10*(xxx+0.4) + 18.7)\n",
    "ax.plot(xxx, -2*(xxx+0.) + 19.4)\n",
    "ax.plot(xxx, -20*(xxx+0.25) + 16)\n",
    "\n",
    "# more_more_mask = ((G0 > (10*(bprp0-0.*u.mag) + 18.7*u.mag)) & \n",
    "#                   (G0 < (10*(bprp0+0.5*u.mag) + 18.7*u.mag)) & \n",
    "#                   (G0 < 20*u.mag) & (G0 > 17.5*u.mag))\n",
    "\n",
    "more_more_mask = ((G0 > (25*(bprp0-0.35*u.mag) + 18.7*u.mag)) & \n",
    "                  (G0 < (10*(bprp0+0.4*u.mag) + 18.7*u.mag)) & \n",
    "                  (bprp0 < 0.3*u.mag) &\n",
    "                  (G0 < (-2*(bprp0+0.*u.mag) + 19.4*u.mag)) & \n",
    "                  (G0 > (-20*(bprp0+0.25*u.mag) + 16*u.mag)) &\n",
    "                  (G0 < 19.5*u.mag) & (G0 > 16.5*u.mag))\n",
    "    \n",
    "ax.plot(bprp0[ext_mask & mag_mask & more_more_mask], \n",
    "        G0[ext_mask & mag_mask & more_more_mask], \n",
    "        marker=',', linestyle='none', alpha=1, color='tab:orange')\n",
    "\n",
    "# ax.scatter(ngc_bprp0, ngc_MG0 + coord.Distance(50*u.kpc).distmod, color='k', zorder=100)\n",
    "# ax.scatter(ngc_bprp0, ngc_MG0 + coord.Distance(20*u.kpc).distmod, color='k', zorder=100)\n",
    "\n",
    "ax.set_xlim(-1.5, 0.8)\n",
    "# ax.set_ylim(20, 12)\n",
    "ax.set_ylim(12, 20)"
   ]
  },
  {
   "cell_type": "code",
   "execution_count": null,
   "metadata": {},
   "outputs": [],
   "source": [
    "all_mask = mag_mask & ext_mask & more_more_mask"
   ]
  },
  {
   "cell_type": "code",
   "execution_count": null,
   "metadata": {},
   "outputs": [],
   "source": [
    "ol_blob = coord.SkyCoord(ra=178.94197852110662*u.deg,\n",
    "                         dec=-29.46957451372061*u.deg)\n",
    "ol_blob = ol_blob.transform_to(gc.MagellanicStream)"
   ]
  },
  {
   "cell_type": "code",
   "execution_count": null,
   "metadata": {
    "scrolled": false
   },
   "outputs": [],
   "source": [
    "bins = (np.arange(L_lim[0].value, L_lim[1].value+1, 3),\n",
    "        np.arange(B_lim[0].value, B_lim[1].value+1, 3))\n",
    "\n",
    "for cc in [coord.SkyCoord(mag_c), c, gal_c, sag_c]:\n",
    "    lon_name, lat_name, _ = list(cc.representation_component_names.keys())\n",
    "    \n",
    "    fig, ax = plt.subplots(1, 1, figsize=(15, 7))\n",
    "    \n",
    "    bg, xe, ye = np.histogram2d(getattr(cc, lon_name).wrap_at(180*u.deg).degree[all_mask & pm_control_mask], \n",
    "                                getattr(cc, lat_name).degree[all_mask & pm_control_mask],\n",
    "                                bins=bins)\n",
    "    # gauss = Gaussian2DKernel(0.5)\n",
    "    # bg = convolve(bg, gauss)\n",
    "    \n",
    "    H, xe, ye = np.histogram2d(getattr(cc, lon_name).wrap_at(180*u.deg).degree[all_mask & pm_mask], \n",
    "                               getattr(cc, lat_name).degree[all_mask & pm_mask],\n",
    "                               bins=bins)\n",
    "    \n",
    "    # gauss = Gaussian2DKernel(0.5)\n",
    "    # H = convolve(H, gauss)\n",
    "    ax.pcolormesh(xe, ye, (H - bg).T, \n",
    "                  norm=mpl.colors.LogNorm(vmin=0.3, vmax=10),\n",
    "                  cmap='Greys')\n",
    "\n",
    "    # gas = [[(35, 5), (30, 5)],\n",
    "    #        [(35, -17), (30, 7)],\n",
    "    #        [(10, -32), (20, 17)],\n",
    "    #        [(-35, -25), (15, 35)],\n",
    "    #        [(-110, -10), (80, 20)]]\n",
    "    # # for row in gas:\n",
    "    # #     r = mpl.patches.Rectangle(row[0], row[1][0], row[1][1],\n",
    "    # #                               facecolor='none', edgecolor='tab:red')\n",
    "    # #     ax.add_patch(r)\n",
    "\n",
    "    # r = mpl.patches.Circle((ol_blob.L.degree, ol_blob.B.degree), radius=2., \n",
    "    #                        facecolor='none', edgecolor='tab:green')\n",
    "    # ax.add_patch(r)\n",
    "\n",
    "    ax.set_xlim(L_lim[1].to(u.degree).value, L_lim[0].to(u.degree).value)\n",
    "    ax.set_ylim(B_lim[0].to(u.degree).value, B_lim[1].to(u.degree).value)\n",
    "\n",
    "    ax.set_xlabel(r'${0}$ [deg]'.format(lon_name))\n",
    "    ax.set_ylabel(r'${0}$ [deg]'.format(lat_name))\n",
    "\n",
    "    fig.tight_layout()\n",
    "\n",
    "#     fig.savefig('../plots/mag_{0}.png'.format(cc.frame.name), dpi=250)"
   ]
  },
  {
   "cell_type": "code",
   "execution_count": null,
   "metadata": {},
   "outputs": [],
   "source": []
  },
  {
   "cell_type": "code",
   "execution_count": null,
   "metadata": {},
   "outputs": [],
   "source": []
  },
  {
   "cell_type": "code",
   "execution_count": null,
   "metadata": {},
   "outputs": [],
   "source": []
  },
  {
   "cell_type": "code",
   "execution_count": null,
   "metadata": {},
   "outputs": [],
   "source": [
    "for cc in [mag_c, c, c.galactic]:\n",
    "    lon_name, lat_name, _ = list(cc.representation_component_names.keys())\n",
    "    \n",
    "    fig, ax = plt.subplots(1, 1, figsize=(15, 7))\n",
    "    \n",
    "    stat = binned_statistic_2d(getattr(cc, lon_name).wrap_at(180*u.deg).degree[all_mask & pm_mask],\n",
    "                               getattr(cc, lat_name).degree[all_mask & pm_mask],\n",
    "                               G0[all_mask & pm_mask],\n",
    "                               bins=(np.arange(L_lim[0].value, L_lim[1].value+1, 2),\n",
    "                                     np.arange(B_lim[0].value, B_lim[1].value+1, 2)),\n",
    "                               statistic='count')\n",
    "    H = stat.statistic.T\n",
    "    # H = gaussian_filter(H, sigma=0.7)\n",
    "    col = ax.pcolormesh(stat.x_edge, stat.y_edge, H,\n",
    "                        vmin=0, vmax=10, cmap='viridis')\n",
    "    fig.colorbar(col)\n",
    "\n",
    "    ax.set_xlim(L_lim[1].to(u.degree).value, L_lim[0].to(u.degree).value)\n",
    "    ax.set_ylim(B_lim[0].to(u.degree).value, B_lim[1].to(u.degree).value)\n",
    "\n",
    "    ax.set_xlabel(r'${0}$ [deg]'.format(lon_name))\n",
    "    ax.set_ylabel(r'${0}$ [deg]'.format(lat_name))\n",
    "\n",
    "    fig.tight_layout()\n",
    "\n",
    "    # fig.savefig('../plots/mag_blue.png', dpi=250)\n",
    "    \n",
    "    break"
   ]
  },
  {
   "cell_type": "code",
   "execution_count": null,
   "metadata": {},
   "outputs": [],
   "source": [
    "for cc in [mag_c, c, c.galactic]:\n",
    "    lon_name, lat_name, _ = list(cc.representation_component_names.keys())\n",
    "    \n",
    "    fig, ax = plt.subplots(1, 1, figsize=(15, 7))\n",
    "    \n",
    "    stat = binned_statistic_2d(getattr(cc, lon_name).wrap_at(180*u.deg).degree[all_mask & pm_mask],\n",
    "                               getattr(cc, lat_name).degree[all_mask & pm_mask],\n",
    "                               G0[all_mask & pm_mask],\n",
    "                               bins=(np.arange(L_lim[0].value, L_lim[1].value+1, 1),\n",
    "                                     np.arange(B_lim[0].value, B_lim[1].value+1, 1)),\n",
    "                               statistic=np.nanmedian)\n",
    "    H = stat.statistic.T\n",
    "    col = ax.pcolormesh(stat.x_edge, stat.y_edge, H,\n",
    "                        vmin=19.1, vmax=19.8, cmap='Spectral')\n",
    "\n",
    "    ax.set_xlim(L_lim[1].to(u.degree).value, L_lim[0].to(u.degree).value)\n",
    "    ax.set_ylim(B_lim[0].to(u.degree).value, B_lim[1].to(u.degree).value)\n",
    "\n",
    "    ax.set_xlabel(r'${0}$ [deg]'.format(lon_name))\n",
    "    ax.set_ylabel(r'${0}$ [deg]'.format(lat_name))\n",
    "\n",
    "    fig.tight_layout()\n",
    "\n",
    "    # fig.savefig('../plots/mag_blue.png', dpi=250)\n",
    "    \n",
    "    break"
   ]
  },
  {
   "cell_type": "code",
   "execution_count": null,
   "metadata": {},
   "outputs": [],
   "source": []
  },
  {
   "cell_type": "code",
   "execution_count": null,
   "metadata": {},
   "outputs": [],
   "source": []
  },
  {
   "cell_type": "code",
   "execution_count": null,
   "metadata": {},
   "outputs": [],
   "source": []
  },
  {
   "cell_type": "code",
   "execution_count": null,
   "metadata": {},
   "outputs": [],
   "source": [
    "fig, ax = plt.subplots(1, 1, figsize=(15, 7))\n",
    "\n",
    "ax.plot(mag_c.L.wrap_at(180*u.deg).degree[all_mask & pm_mask], \n",
    "        mag_c.B.degree[all_mask & pm_mask],\n",
    "        marker='.', linestyle='none', alpha=0.5)\n",
    "\n",
    "gas = [[(35, 5), (30, 5)],\n",
    "       [(35, -17), (30, 7)],\n",
    "       [(10, -32), (20, 17)],\n",
    "       [(-35, -25), (15, 35)],\n",
    "       [(-110, -10), (80, 20)]]\n",
    "for row in gas:\n",
    "    r = mpl.patches.Rectangle(row[0], row[1][0], row[1][1],\n",
    "                              facecolor='none', edgecolor='tab:red')\n",
    "    ax.add_patch(r)\n",
    "\n",
    "r = mpl.patches.Circle((ol_blob.L.degree, ol_blob.B.degree), radius=2., \n",
    "                       facecolor='none', edgecolor='tab:green')\n",
    "ax.add_patch(r)\n",
    "    \n",
    "ax.set_xlim(120, -140)\n",
    "ax.set_ylim(-60, 60)\n",
    "\n",
    "ax.set_xlabel(r'$L_{\\rm MS}$ [deg]')\n",
    "ax.set_ylabel(r'$B_{\\rm MS}$ [deg]')\n",
    "\n",
    "# fig.savefig('mag_blue.png', dpi=250)"
   ]
  },
  {
   "cell_type": "code",
   "execution_count": null,
   "metadata": {},
   "outputs": [],
   "source": [
    "fig, ax = plt.subplots(1, 1, figsize=(15, 7))\n",
    "\n",
    "ax.plot(c.ra.degree[all_mask & pm_mask], \n",
    "        c.dec.degree[all_mask & pm_mask],\n",
    "        marker='.', linestyle='none', alpha=0.5)\n",
    "    \n",
    "ax.set_xlim(360, 0)\n",
    "# ax.set_ylim(-60, 60)\n",
    "\n",
    "# ax.set_xlabel(r'$L_{\\rm MS}$ [deg]')\n",
    "# ax.set_ylabel(r'$B_{\\rm MS}$ [deg]')"
   ]
  },
  {
   "cell_type": "code",
   "execution_count": null,
   "metadata": {},
   "outputs": [],
   "source": []
  },
  {
   "cell_type": "code",
   "execution_count": null,
   "metadata": {},
   "outputs": [],
   "source": [
    "stat_muL = binned_statistic_2d(mag_c.L.wrap_at(180*u.deg).degree[all_mask & pm_mask],\n",
    "                               mag_c.B.degree[all_mask & pm_mask],\n",
    "                               mag_c.pm_L_cosB[all_mask & pm_mask],\n",
    "                               bins=(np.arange(-140, 120+1, 2),\n",
    "                                     np.arange(-60, 60+1, 2)),\n",
    "                               statistic=np.nanmean)\n",
    "\n",
    "stat_muB = binned_statistic_2d(mag_c.L.wrap_at(180*u.deg).degree[all_mask & pm_mask],\n",
    "                               mag_c.B.degree[all_mask & pm_mask],\n",
    "                               mag_c.pm_B[all_mask & pm_mask],\n",
    "                               bins=(np.arange(-140, 120+1, 2),\n",
    "                                     np.arange(-60, 60+1, 2)),\n",
    "                               statistic=np.nanmean)"
   ]
  },
  {
   "cell_type": "code",
   "execution_count": null,
   "metadata": {},
   "outputs": [],
   "source": [
    "fig, ax = plt.subplots(1, 1, figsize=(15, 7))\n",
    "\n",
    "# H = gaussian_filter(H, sigma=0.75)\n",
    "cc = ax.pcolormesh(stat_muL.x_edge, stat_muL.y_edge, stat_muL.statistic.T,\n",
    "                   vmin=-2, vmax=2, cmap=center_emph)\n",
    "cb = fig.colorbar(cc)\n",
    "cb.set_label(r'${\\rm mean}(\\mu_L \\cos B)$')\n",
    "\n",
    "ax.set_xlim(120, -140)\n",
    "ax.set_ylim(-60, 60)\n",
    "\n",
    "ax.set_xlabel(r'$L_{\\rm MS}$ [deg]')\n",
    "ax.set_ylabel(r'$B_{\\rm MS}$ [deg]')\n",
    "\n",
    "fig.tight_layout()"
   ]
  },
  {
   "cell_type": "code",
   "execution_count": null,
   "metadata": {},
   "outputs": [],
   "source": [
    "fig, ax = plt.subplots(1, 1, figsize=(15, 7))\n",
    "\n",
    "# H = gaussian_filter(H, sigma=0.75)\n",
    "cc = ax.pcolormesh(stat_muB.x_edge, stat_muB.y_edge, stat_muB.statistic.T,\n",
    "                   vmin=-1, vmax=1, cmap=center_emph)\n",
    "cb = fig.colorbar(cc)\n",
    "cb.set_label(r'${\\rm mean}(\\mu_B)$')\n",
    "\n",
    "ax.set_xlim(120, -140)\n",
    "ax.set_ylim(-60, 60)\n",
    "\n",
    "ax.set_xlabel(r'$L_{\\rm MS}$ [deg]')\n",
    "ax.set_ylabel(r'$B_{\\rm MS}$ [deg]')\n",
    "\n",
    "fig.tight_layout()\n",
    "# fig.savefig('mag_pm.png', dpi=250)"
   ]
  },
  {
   "cell_type": "code",
   "execution_count": null,
   "metadata": {},
   "outputs": [],
   "source": []
  },
  {
   "cell_type": "code",
   "execution_count": null,
   "metadata": {},
   "outputs": [],
   "source": []
  },
  {
   "cell_type": "code",
   "execution_count": null,
   "metadata": {},
   "outputs": [],
   "source": []
  },
  {
   "cell_type": "markdown",
   "metadata": {},
   "source": [
    "---\n",
    "# WTF?! TriAnd and outer disk??"
   ]
  },
  {
   "cell_type": "code",
   "execution_count": null,
   "metadata": {},
   "outputs": [],
   "source": [
    "mgiants = Table.read('../../low-latitude-structures/data/mgiants-only.csv', format='ascii.csv')"
   ]
  },
  {
   "cell_type": "code",
   "execution_count": null,
   "metadata": {},
   "outputs": [],
   "source": [
    "cc = c.galactic\n",
    "lon_name, lat_name, _ = list(cc.representation_component_names.keys())\n",
    "\n",
    "stat = binned_statistic_2d(getattr(cc, lon_name).wrap_at(360*u.deg).degree[all_mask & pm_mask],\n",
    "                           getattr(cc, lat_name).degree[all_mask & pm_mask],\n",
    "                           G0[all_mask & pm_mask],\n",
    "                           bins=(np.arange(0, 360+1, 1),\n",
    "                                 np.arange(B_lim[0].value, B_lim[1].value+1, 1)),\n",
    "                           statistic='mean')"
   ]
  },
  {
   "cell_type": "code",
   "execution_count": null,
   "metadata": {},
   "outputs": [],
   "source": [
    "fig, ax = plt.subplots(1, 1, figsize=(15, 7))\n",
    "\n",
    "H = stat.statistic.T\n",
    "# gauss = Gaussian2DKernel(0.75)\n",
    "# H = convolve(H, gauss)\n",
    "col = ax.pcolormesh(stat.x_edge, stat.y_edge, H, \n",
    "                    vmin=17.3, vmax=19.5,\n",
    "                    cmap='hesperia_r')\n",
    "fig.colorbar(col)\n",
    "\n",
    "for i, (name, col) in enumerate(zip(np.unique(mgiants['structure']),\n",
    "                                    ['tab:red', 'tab:green', 'tab:blue'])):\n",
    "    structure = mgiants['structure'] == name\n",
    "    ax.scatter(mgiants['l'][structure], mgiants['b'][structure], c=col,\n",
    "               marker='.', label=name)\n",
    "ax.legend(loc='upper left')\n",
    "\n",
    "# ax.set_xlim(L_lim[1].to(u.degree).value, L_lim[0].to(u.degree).value)\n",
    "ax.set_xlim(360, 0)\n",
    "ax.set_ylim(B_lim[0].to(u.degree).value, B_lim[1].to(u.degree).value)\n",
    "\n",
    "ax.set_xlabel(r'${0}$ [deg]'.format(lon_name))\n",
    "ax.set_ylabel(r'${0}$ [deg]'.format(lat_name))\n",
    "\n",
    "fig.tight_layout()\n",
    "\n",
    "#     fig.savefig('../plots/mag_{0}.png'.format(cc.frame.name), dpi=250)"
   ]
  },
  {
   "cell_type": "code",
   "execution_count": null,
   "metadata": {},
   "outputs": [],
   "source": []
  },
  {
   "cell_type": "code",
   "execution_count": null,
   "metadata": {},
   "outputs": [],
   "source": []
  },
  {
   "cell_type": "code",
   "execution_count": null,
   "metadata": {},
   "outputs": [],
   "source": []
  }
 ],
 "metadata": {
  "kernelspec": {
   "display_name": "Python [default]",
   "language": "python",
   "name": "python3"
  },
  "language_info": {
   "codemirror_mode": {
    "name": "ipython",
    "version": 3
   },
   "file_extension": ".py",
   "mimetype": "text/x-python",
   "name": "python",
   "nbconvert_exporter": "python",
   "pygments_lexer": "ipython3",
   "version": "3.6.4"
  }
 },
 "nbformat": 4,
 "nbformat_minor": 2
}