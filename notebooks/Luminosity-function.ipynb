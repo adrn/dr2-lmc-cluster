{
 "cells": [
  {
   "cell_type": "code",
   "execution_count": null,
   "metadata": {},
   "outputs": [],
   "source": [
    "from os import path\n",
    "\n",
    "import astropy.coordinates as coord\n",
    "from astropy.table import Table\n",
    "import astropy.units as u\n",
    "from astropy.io import ascii\n",
    "from astropy.io import fits\n",
    "from astropy.wcs import WCS\n",
    "import reproject\n",
    "\n",
    "import numpy as np\n",
    "import matplotlib as mpl\n",
    "import matplotlib.pyplot as plt\n",
    "%matplotlib inline\n",
    "import h5py\n",
    "\n",
    "from pyia import GaiaData\n",
    "import gala.dynamics as gd\n",
    "import gala.coordinates as gc\n",
    "import gala.potential as gp\n",
    "from gala.mpl_style import center_emph, center_deemph\n",
    "\n",
    "from helpers import get_ext"
   ]
  },
  {
   "cell_type": "code",
   "execution_count": null,
   "metadata": {},
   "outputs": [],
   "source": [
    "lf = ascii.read('../data/lf_FeH-0.75_age100Myr.txt', header_start=13)"
   ]
  },
  {
   "cell_type": "code",
   "execution_count": null,
   "metadata": {},
   "outputs": [],
   "source": [
    "dm = coord.Distance(30*u.kpc).distmod.value"
   ]
  },
  {
   "cell_type": "code",
   "execution_count": null,
   "metadata": {},
   "outputs": [],
   "source": [
    "lf[(lf['bin(mag)'] + dm) < 14]"
   ]
  },
  {
   "cell_type": "code",
   "execution_count": null,
   "metadata": {},
   "outputs": [],
   "source": [
    "coord.Distance(100*u.pc).distmod.value + -4"
   ]
  },
  {
   "cell_type": "code",
   "execution_count": null,
   "metadata": {},
   "outputs": [],
   "source": [
    "fig, ax = plt.subplots(1, 1)\n",
    "\n",
    "ax.plot(lf['bin(mag)'] + dm, lf['gP1'])\n",
    "ax.set_yscale('log')\n",
    "ax.set_xlim(14, 24)"
   ]
  },
  {
   "cell_type": "code",
   "execution_count": null,
   "metadata": {},
   "outputs": [],
   "source": [
    "g0 = lf['bin(mag)'] + dm\n",
    "dN = lf['gP1']"
   ]
  },
  {
   "cell_type": "code",
   "execution_count": null,
   "metadata": {},
   "outputs": [],
   "source": [
    "new_bin_size = 0.5\n",
    "old_bin_sze = 0.1\n",
    "\n",
    "bins = np.arange(16, 19+1e-3, new_bin_size)\n",
    "new_Phi = []\n",
    "for l, r in zip(bins[:-1], bins[1:]):\n",
    "    bin_mask = (g0 >= l) & (g0 < r)\n",
    "    new_Phi.append((dN[bin_mask] * old_bin_sze).sum() / new_bin_size)"
   ]
  },
  {
   "cell_type": "code",
   "execution_count": null,
   "metadata": {},
   "outputs": [],
   "source": [
    "bin_m = (bins[:-1] + bins[1:]) / 2.\n",
    "\n",
    "plt.plot(bin_m, new_Phi, drawstyle='steps-mid', marker='', color='k')\n",
    "# plt.ylim(0, 20)"
   ]
  },
  {
   "cell_type": "code",
   "execution_count": null,
   "metadata": {},
   "outputs": [],
   "source": [
    "meas_N = np.array([4, 4, 8, 8, 8, 8])\n",
    "plt.plot(bin_m, meas_N / new_Phi)"
   ]
  },
  {
   "cell_type": "code",
   "execution_count": null,
   "metadata": {},
   "outputs": [],
   "source": []
  },
  {
   "cell_type": "code",
   "execution_count": null,
   "metadata": {},
   "outputs": [],
   "source": []
  }
 ],
 "metadata": {
  "kernelspec": {
   "display_name": "Python [default]",
   "language": "python",
   "name": "python3"
  },
  "language_info": {
   "codemirror_mode": {
    "name": "ipython",
    "version": 3
   },
   "file_extension": ".py",
   "mimetype": "text/x-python",
   "name": "python",
   "nbconvert_exporter": "python",
   "pygments_lexer": "ipython3",
   "version": "3.6.4"
  }
 },
 "nbformat": 4,
 "nbformat_minor": 2
}