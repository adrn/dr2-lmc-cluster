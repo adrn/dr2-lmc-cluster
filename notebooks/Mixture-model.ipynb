{
 "cells": [
  {
   "cell_type": "code",
   "execution_count": null,
   "metadata": {},
   "outputs": [],
   "source": [
    "from os import path\n",
    "\n",
    "import astropy.coordinates as coord\n",
    "from astropy.table import Table\n",
    "import astropy.units as u\n",
    "from astropy.io import ascii\n",
    "from astropy.io import fits\n",
    "from astropy.wcs import WCS\n",
    "import reproject\n",
    "\n",
    "import numpy as np\n",
    "import matplotlib as mpl\n",
    "import matplotlib.pyplot as plt\n",
    "%matplotlib inline\n",
    "import h5py\n",
    "from scipy.spatial import cKDTree\n",
    "\n",
    "from pyia import GaiaData\n",
    "import gala.dynamics as gd\n",
    "import gala.coordinates as gc\n",
    "import gala.potential as gp\n",
    "from gala.mpl_style import center_emph, center_deemph\n",
    "\n",
    "from dustmaps.sfd import SFDQuery\n",
    "from helpers import get_ext\n",
    "\n",
    "import "
   ]
  },
  {
   "cell_type": "code",
   "execution_count": null,
   "metadata": {},
   "outputs": [],
   "source": [
    "g = GaiaData('../data/data-joined.fits')\n",
    "c = g.get_skycoord(distance=False)\n",
    "mag_c = c.transform_to(gc.MagellanicStream)"
   ]
  },
  {
   "cell_type": "markdown",
   "metadata": {},
   "source": [
    "## Dust-correct Gaia colors:"
   ]
  },
  {
   "cell_type": "code",
   "execution_count": null,
   "metadata": {},
   "outputs": [],
   "source": [
    "sfd = SFDQuery()\n",
    "ebv = sfd.query(c)"
   ]
  },
  {
   "cell_type": "code",
   "execution_count": null,
   "metadata": {},
   "outputs": [],
   "source": [
    "Agaia = np.vstack(get_ext(g.phot_g_mean_mag.value,\n",
    "                          g.phot_bp_mean_mag.value,\n",
    "                          g.phot_rp_mean_mag.value,\n",
    "                          ebv)).T"
   ]
  },
  {
   "cell_type": "code",
   "execution_count": null,
   "metadata": {},
   "outputs": [],
   "source": [
    "G0 = g.phot_g_mean_mag.value - Agaia[:, 0]\n",
    "BP0 = g.phot_bp_mean_mag.value - Agaia[:, 1]\n",
    "RP0 = g.phot_rp_mean_mag.value - Agaia[:, 2]\n",
    "bprp0 = BP0 - RP0\n",
    "bpg0 = BP0 - G0"
   ]
  },
  {
   "cell_type": "markdown",
   "metadata": {},
   "source": [
    "## Define cluster and control fields"
   ]
  },
  {
   "cell_type": "code",
   "execution_count": null,
   "metadata": {},
   "outputs": [],
   "source": [
    "control_mask = ( ((mag_c.L < 70.2*u.deg) & (mag_c.L > 67*u.deg)) |\n",
    "                 ((mag_c.L < 60.25*u.deg) & (mag_c.L > 58.25*u.deg)) )\n",
    "control_mask.sum(), 8 * (70.2-67 + 60.25-58.25)"
   ]
  },
  {
   "cell_type": "code",
   "execution_count": null,
   "metadata": {
    "scrolled": true
   },
   "outputs": [],
   "source": [
    "cluster_c = coord.SkyCoord(ra=179.5*u.deg,\n",
    "                           dec=-28.8*u.deg)\n",
    "\n",
    "cl_rad = 1.7*u.deg\n",
    "cluster_mask = c.separation(cluster_c) < cl_rad\n",
    "cluster_mask.sum(), np.pi * cl_rad**2"
   ]
  },
  {
   "cell_type": "markdown",
   "metadata": {},
   "source": [
    "## Define feature arrays:"
   ]
  },
  {
   "cell_type": "code",
   "execution_count": null,
   "metadata": {},
   "outputs": [],
   "source": [
    "# Cov = np.zeros((cluster_mask.sum(), 2))\n",
    "# Gerr = g.phot_g_mean_flux_over_error\n",
    "# bprperr = np.sqrt(g.phot_bp_mean_flux_over_error**2 + g.phot_rp_mean_flux_over_error**2)"
   ]
  },
  {
   "cell_type": "code",
   "execution_count": null,
   "metadata": {},
   "outputs": [],
   "source": [
    "full_cov = g.get_cov()[cluster_mask]\n",
    "Cov = full_cov[:, 3:5, 3:5]\n",
    "\n",
    "X = np.vstack((g.pmra.value[cluster_mask],\n",
    "               g.pmdec.value[cluster_mask])).T"
   ]
  },
  {
   "cell_type": "code",
   "execution_count": null,
   "metadata": {},
   "outputs": [],
   "source": [
    "def select_func(data):\n",
    "    return ((data[:, 0] < 10) & (data[:, 0] > -10) &\n",
    "            (data[:, 1] < 10) & (data[:, 1] > -10))"
   ]
  },
  {
   "cell_type": "code",
   "execution_count": null,
   "metadata": {},
   "outputs": [],
   "source": [
    "from functools import partial\n",
    "\n",
    "# use the covariance of the nearest neighbor.\n",
    "def covar_tree_cb(coords, tree, covar):\n",
    "    \"\"\"Return the covariance of the nearest neighbor of coords in data.\"\"\"\n",
    "    dist, ind = tree.query(coords, k=1)\n",
    "    return covar[ind.flatten()]\n",
    "\n",
    "from sklearn.neighbors import KDTree\n",
    "tree = KDTree(X, leaf_size=100)\n",
    "covar_cb = partial(covar_tree_cb, tree=tree, covar=Cov)"
   ]
  },
  {
   "cell_type": "code",
   "execution_count": null,
   "metadata": {},
   "outputs": [],
   "source": [
    "gmm = pygmmis.GMM(K=4, D=2)"
   ]
  },
  {
   "cell_type": "code",
   "execution_count": null,
   "metadata": {},
   "outputs": [],
   "source": [
    "logL, U = pygmmis.fit(gmm, X, init_method='kmeans', \n",
    "                      covar=Cov, sel_callback=select_func,\n",
    "                      covar_callback=covar_cb, )"
   ]
  },
  {
   "cell_type": "code",
   "execution_count": null,
   "metadata": {},
   "outputs": [],
   "source": [
    "samples, covar_samples, N_orig = pygmmis.draw(gmm, X.shape[0], sel_callback=select_func,\n",
    "                                              covar_callback=covar_cb)"
   ]
  },
  {
   "cell_type": "code",
   "execution_count": null,
   "metadata": {},
   "outputs": [],
   "source": [
    "bins = np.linspace(-10, 10, 64)\n",
    "\n",
    "fig, axes = plt.subplots(1, 2, figsize=(10, 5))\n",
    "\n",
    "for i, data in enumerate([X, samples]):\n",
    "    ax = axes[i]\n",
    "    H, xe, ye = np.histogram2d(data[:, 0], data[:, 1], bins=bins)\n",
    "    ax.pcolormesh(xe, ye, H.T, cmap='magma')"
   ]
  },
  {
   "cell_type": "code",
   "execution_count": null,
   "metadata": {},
   "outputs": [],
   "source": []
  },
  {
   "cell_type": "code",
   "execution_count": null,
   "metadata": {},
   "outputs": [],
   "source": []
  },
  {
   "cell_type": "code",
   "execution_count": null,
   "metadata": {},
   "outputs": [],
   "source": []
  }
 ],
 "metadata": {
  "kernelspec": {
   "display_name": "Python [default]",
   "language": "python",
   "name": "python3"
  },
  "language_info": {
   "codemirror_mode": {
    "name": "ipython",
    "version": 3
   },
   "file_extension": ".py",
   "mimetype": "text/x-python",
   "name": "python",
   "nbconvert_exporter": "python",
   "pygments_lexer": "ipython3",
   "version": "3.6.4"
  }
 },
 "nbformat": 4,
 "nbformat_minor": 2
}